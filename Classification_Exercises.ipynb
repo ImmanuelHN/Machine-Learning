{
  "cells": [
    {
      "cell_type": "markdown",
      "metadata": {
        "id": "-RwnkNjENXjz"
      },
      "source": [
        "## Classification Excercise"
      ]
    },
    {
      "cell_type": "markdown",
      "metadata": {
        "id": "PnWlPkvYNXj6"
      },
      "source": [
        "### About the data set (Bank Client Data)\n",
        "\n",
        "#### Bank client data:\n",
        "**age:** Age of the client<br>\n",
        "**duration:** last contact duration, in seconds.<br>\n",
        "\n",
        "#### Other attributes:\n",
        "**campaign:** number of contacts performed during this campaign and for this client<br>\n",
        "**pdays:** number of days that passed by after the client was last contacted from a previous campaign (999 means client was not previously contacted)<br>\n",
        "**previous:** number of contacts performed before this campaign and for this client<br>\n",
        "\n",
        "#### Social and economic context\n",
        "\n",
        "**emp.var.rate:** employment variation rate - quarterly indicator<br>\n",
        "**cons.price.idx:** consumer price index - monthly indicator<br>\n",
        "**cons.conf.idx:** consumer confidence index - monthly indicator<br>\n",
        "**euribor3m:** euribor 3 month rate - daily indicator<br>\n",
        "**nr.employed:** number of employees - quarterly indicator<br>\n",
        "\n",
        "**y** - (Output variable) has the client subscribed a term deposit?"
      ]
    },
    {
      "cell_type": "markdown",
      "metadata": {
        "id": "FbNd9TWpNXj9"
      },
      "source": [
        "# Table of Content\n",
        "\n",
        "1. Data Preprocessing - **3 Marks**\n",
        "2. Logistic Regression Model - **3 Marks**\n",
        "3. Decision Tree Model - **3 Marks**\n",
        "4. Random Forest Model - **3 Marks**\n",
        "5. XGBoost Model - **3 Marks**\n",
        "6. K Nearest Neighbors Model - **3 Marks**\n",
        "7. Naive Bayes Model - **3 Marks**\n",
        "8. Compare the Results of all the above mentioned algorithms - **4 Marks**\n",
        "9. Intrepret your solution based on the results - **5 Marks**\n"
      ]
    },
    {
      "cell_type": "markdown",
      "metadata": {
        "id": "1OIEk_rQNXj-"
      },
      "source": [
        "<a id=\"logreg\"> </a>\n",
        "## 1. Data Pre-Processing"
      ]
    },
    {
      "cell_type": "markdown",
      "metadata": {
        "id": "XaI9ONdJNXj-"
      },
      "source": [
        "**Import the required libraries**"
      ]
    },
    {
      "cell_type": "code",
      "execution_count": 1,
      "metadata": {
        "id": "cQPNuORDNXj_"
      },
      "outputs": [],
      "source": [
        "import pandas as pd\n",
        "import numpy as np\n",
        "import xgboost as xgb\n",
        "import seaborn as sns\n",
        "import matplotlib.pyplot as plt\n",
        "from scipy.stats import skew\n",
        "from sklearn.preprocessing import StandardScaler,MinMaxScaler\n",
        "from sklearn.model_selection import train_test_split,GridSearchCV\n",
        "from sklearn.tree import DecisionTreeClassifier\n",
        "from sklearn.metrics import classification_report,accuracy_score,precision_score, recall_score, f1_score,confusion_matrix,cohen_kappa_score,roc_curve,auc,log_loss,precision_recall_curve\n",
        "from sklearn.ensemble import RandomForestClassifier\n",
        "from sklearn.neighbors import KNeighborsClassifier\n",
        "from sklearn.naive_bayes import GaussianNB, BernoulliNB, MultinomialNB\n",
        "from sklearn.linear_model import LogisticRegression\n",
        "from xgboost import XGBClassifier"
      ]
    },
    {
      "cell_type": "markdown",
      "metadata": {
        "id": "gtuD4lQyNXkA"
      },
      "source": [
        "#### Load the csv file"
      ]
    },
    {
      "cell_type": "code",
      "execution_count": 2,
      "metadata": {
        "id": "oOKG3MbINXkB"
      },
      "outputs": [],
      "source": [
        "df= pd.read_csv('bank (1).csv')"
      ]
    },
    {
      "cell_type": "markdown",
      "metadata": {
        "id": "oNA1dLIWNXkC"
      },
      "source": [
        "<table align=\"left\">\n",
        "    <tr>\n",
        "        <td>\n",
        "            <div align=\"left\", style=\"font-size:120%\">\n",
        "                <font color=\"#21618C\">\n",
        "                    <b>Prepare the data </b>\n",
        "                </font>\n",
        "            </div>\n",
        "        </td>\n",
        "    </tr>\n",
        "</table>"
      ]
    },
    {
      "cell_type": "code",
      "source": [
        "df.head()"
      ],
      "metadata": {
        "colab": {
          "base_uri": "https://localhost:8080/",
          "height": 226
        },
        "id": "TF0Z46hi3pyy",
        "outputId": "771ea05d-c66e-457f-c380-753af860cdf7"
      },
      "execution_count": 3,
      "outputs": [
        {
          "output_type": "execute_result",
          "data": {
            "text/plain": [
              "   age  duration  campaign  pdays  previous  emp.var.rate  cons.price.idx  \\\n",
              "0   32       205         2    999         0           1.1          93.994   \n",
              "1   32       691        10    999         0           1.4          93.918   \n",
              "2   45        45         8    999         0           1.4          93.444   \n",
              "3   33       400         1      5         2          -1.1          94.601   \n",
              "4   47       903         2    999         1          -1.8          93.075   \n",
              "\n",
              "   cons.conf.idx  euribor3m  nr.employed    y  \n",
              "0          -36.4      4.858       5191.0   no  \n",
              "1          -42.7      4.960       5228.1  yes  \n",
              "2          -36.1      4.963       5228.1   no  \n",
              "3          -49.5      1.032       4963.6  yes  \n",
              "4          -47.1      1.415       5099.1  yes  "
            ],
            "text/html": [
              "\n",
              "  <div id=\"df-6b1f3e91-5a67-439c-891c-943ba84fdf5c\" class=\"colab-df-container\">\n",
              "    <div>\n",
              "<style scoped>\n",
              "    .dataframe tbody tr th:only-of-type {\n",
              "        vertical-align: middle;\n",
              "    }\n",
              "\n",
              "    .dataframe tbody tr th {\n",
              "        vertical-align: top;\n",
              "    }\n",
              "\n",
              "    .dataframe thead th {\n",
              "        text-align: right;\n",
              "    }\n",
              "</style>\n",
              "<table border=\"1\" class=\"dataframe\">\n",
              "  <thead>\n",
              "    <tr style=\"text-align: right;\">\n",
              "      <th></th>\n",
              "      <th>age</th>\n",
              "      <th>duration</th>\n",
              "      <th>campaign</th>\n",
              "      <th>pdays</th>\n",
              "      <th>previous</th>\n",
              "      <th>emp.var.rate</th>\n",
              "      <th>cons.price.idx</th>\n",
              "      <th>cons.conf.idx</th>\n",
              "      <th>euribor3m</th>\n",
              "      <th>nr.employed</th>\n",
              "      <th>y</th>\n",
              "    </tr>\n",
              "  </thead>\n",
              "  <tbody>\n",
              "    <tr>\n",
              "      <th>0</th>\n",
              "      <td>32</td>\n",
              "      <td>205</td>\n",
              "      <td>2</td>\n",
              "      <td>999</td>\n",
              "      <td>0</td>\n",
              "      <td>1.1</td>\n",
              "      <td>93.994</td>\n",
              "      <td>-36.4</td>\n",
              "      <td>4.858</td>\n",
              "      <td>5191.0</td>\n",
              "      <td>no</td>\n",
              "    </tr>\n",
              "    <tr>\n",
              "      <th>1</th>\n",
              "      <td>32</td>\n",
              "      <td>691</td>\n",
              "      <td>10</td>\n",
              "      <td>999</td>\n",
              "      <td>0</td>\n",
              "      <td>1.4</td>\n",
              "      <td>93.918</td>\n",
              "      <td>-42.7</td>\n",
              "      <td>4.960</td>\n",
              "      <td>5228.1</td>\n",
              "      <td>yes</td>\n",
              "    </tr>\n",
              "    <tr>\n",
              "      <th>2</th>\n",
              "      <td>45</td>\n",
              "      <td>45</td>\n",
              "      <td>8</td>\n",
              "      <td>999</td>\n",
              "      <td>0</td>\n",
              "      <td>1.4</td>\n",
              "      <td>93.444</td>\n",
              "      <td>-36.1</td>\n",
              "      <td>4.963</td>\n",
              "      <td>5228.1</td>\n",
              "      <td>no</td>\n",
              "    </tr>\n",
              "    <tr>\n",
              "      <th>3</th>\n",
              "      <td>33</td>\n",
              "      <td>400</td>\n",
              "      <td>1</td>\n",
              "      <td>5</td>\n",
              "      <td>2</td>\n",
              "      <td>-1.1</td>\n",
              "      <td>94.601</td>\n",
              "      <td>-49.5</td>\n",
              "      <td>1.032</td>\n",
              "      <td>4963.6</td>\n",
              "      <td>yes</td>\n",
              "    </tr>\n",
              "    <tr>\n",
              "      <th>4</th>\n",
              "      <td>47</td>\n",
              "      <td>903</td>\n",
              "      <td>2</td>\n",
              "      <td>999</td>\n",
              "      <td>1</td>\n",
              "      <td>-1.8</td>\n",
              "      <td>93.075</td>\n",
              "      <td>-47.1</td>\n",
              "      <td>1.415</td>\n",
              "      <td>5099.1</td>\n",
              "      <td>yes</td>\n",
              "    </tr>\n",
              "  </tbody>\n",
              "</table>\n",
              "</div>\n",
              "    <div class=\"colab-df-buttons\">\n",
              "\n",
              "  <div class=\"colab-df-container\">\n",
              "    <button class=\"colab-df-convert\" onclick=\"convertToInteractive('df-6b1f3e91-5a67-439c-891c-943ba84fdf5c')\"\n",
              "            title=\"Convert this dataframe to an interactive table.\"\n",
              "            style=\"display:none;\">\n",
              "\n",
              "  <svg xmlns=\"http://www.w3.org/2000/svg\" height=\"24px\" viewBox=\"0 -960 960 960\">\n",
              "    <path d=\"M120-120v-720h720v720H120Zm60-500h600v-160H180v160Zm220 220h160v-160H400v160Zm0 220h160v-160H400v160ZM180-400h160v-160H180v160Zm440 0h160v-160H620v160ZM180-180h160v-160H180v160Zm440 0h160v-160H620v160Z\"/>\n",
              "  </svg>\n",
              "    </button>\n",
              "\n",
              "  <style>\n",
              "    .colab-df-container {\n",
              "      display:flex;\n",
              "      gap: 12px;\n",
              "    }\n",
              "\n",
              "    .colab-df-convert {\n",
              "      background-color: #E8F0FE;\n",
              "      border: none;\n",
              "      border-radius: 50%;\n",
              "      cursor: pointer;\n",
              "      display: none;\n",
              "      fill: #1967D2;\n",
              "      height: 32px;\n",
              "      padding: 0 0 0 0;\n",
              "      width: 32px;\n",
              "    }\n",
              "\n",
              "    .colab-df-convert:hover {\n",
              "      background-color: #E2EBFA;\n",
              "      box-shadow: 0px 1px 2px rgba(60, 64, 67, 0.3), 0px 1px 3px 1px rgba(60, 64, 67, 0.15);\n",
              "      fill: #174EA6;\n",
              "    }\n",
              "\n",
              "    .colab-df-buttons div {\n",
              "      margin-bottom: 4px;\n",
              "    }\n",
              "\n",
              "    [theme=dark] .colab-df-convert {\n",
              "      background-color: #3B4455;\n",
              "      fill: #D2E3FC;\n",
              "    }\n",
              "\n",
              "    [theme=dark] .colab-df-convert:hover {\n",
              "      background-color: #434B5C;\n",
              "      box-shadow: 0px 1px 3px 1px rgba(0, 0, 0, 0.15);\n",
              "      filter: drop-shadow(0px 1px 2px rgba(0, 0, 0, 0.3));\n",
              "      fill: #FFFFFF;\n",
              "    }\n",
              "  </style>\n",
              "\n",
              "    <script>\n",
              "      const buttonEl =\n",
              "        document.querySelector('#df-6b1f3e91-5a67-439c-891c-943ba84fdf5c button.colab-df-convert');\n",
              "      buttonEl.style.display =\n",
              "        google.colab.kernel.accessAllowed ? 'block' : 'none';\n",
              "\n",
              "      async function convertToInteractive(key) {\n",
              "        const element = document.querySelector('#df-6b1f3e91-5a67-439c-891c-943ba84fdf5c');\n",
              "        const dataTable =\n",
              "          await google.colab.kernel.invokeFunction('convertToInteractive',\n",
              "                                                    [key], {});\n",
              "        if (!dataTable) return;\n",
              "\n",
              "        const docLinkHtml = 'Like what you see? Visit the ' +\n",
              "          '<a target=\"_blank\" href=https://colab.research.google.com/notebooks/data_table.ipynb>data table notebook</a>'\n",
              "          + ' to learn more about interactive tables.';\n",
              "        element.innerHTML = '';\n",
              "        dataTable['output_type'] = 'display_data';\n",
              "        await google.colab.output.renderOutput(dataTable, element);\n",
              "        const docLink = document.createElement('div');\n",
              "        docLink.innerHTML = docLinkHtml;\n",
              "        element.appendChild(docLink);\n",
              "      }\n",
              "    </script>\n",
              "  </div>\n",
              "\n",
              "\n",
              "<div id=\"df-df279429-5b9b-4dc5-80ea-8dd2b0f22364\">\n",
              "  <button class=\"colab-df-quickchart\" onclick=\"quickchart('df-df279429-5b9b-4dc5-80ea-8dd2b0f22364')\"\n",
              "            title=\"Suggest charts\"\n",
              "            style=\"display:none;\">\n",
              "\n",
              "<svg xmlns=\"http://www.w3.org/2000/svg\" height=\"24px\"viewBox=\"0 0 24 24\"\n",
              "     width=\"24px\">\n",
              "    <g>\n",
              "        <path d=\"M19 3H5c-1.1 0-2 .9-2 2v14c0 1.1.9 2 2 2h14c1.1 0 2-.9 2-2V5c0-1.1-.9-2-2-2zM9 17H7v-7h2v7zm4 0h-2V7h2v10zm4 0h-2v-4h2v4z\"/>\n",
              "    </g>\n",
              "</svg>\n",
              "  </button>\n",
              "\n",
              "<style>\n",
              "  .colab-df-quickchart {\n",
              "      --bg-color: #E8F0FE;\n",
              "      --fill-color: #1967D2;\n",
              "      --hover-bg-color: #E2EBFA;\n",
              "      --hover-fill-color: #174EA6;\n",
              "      --disabled-fill-color: #AAA;\n",
              "      --disabled-bg-color: #DDD;\n",
              "  }\n",
              "\n",
              "  [theme=dark] .colab-df-quickchart {\n",
              "      --bg-color: #3B4455;\n",
              "      --fill-color: #D2E3FC;\n",
              "      --hover-bg-color: #434B5C;\n",
              "      --hover-fill-color: #FFFFFF;\n",
              "      --disabled-bg-color: #3B4455;\n",
              "      --disabled-fill-color: #666;\n",
              "  }\n",
              "\n",
              "  .colab-df-quickchart {\n",
              "    background-color: var(--bg-color);\n",
              "    border: none;\n",
              "    border-radius: 50%;\n",
              "    cursor: pointer;\n",
              "    display: none;\n",
              "    fill: var(--fill-color);\n",
              "    height: 32px;\n",
              "    padding: 0;\n",
              "    width: 32px;\n",
              "  }\n",
              "\n",
              "  .colab-df-quickchart:hover {\n",
              "    background-color: var(--hover-bg-color);\n",
              "    box-shadow: 0 1px 2px rgba(60, 64, 67, 0.3), 0 1px 3px 1px rgba(60, 64, 67, 0.15);\n",
              "    fill: var(--button-hover-fill-color);\n",
              "  }\n",
              "\n",
              "  .colab-df-quickchart-complete:disabled,\n",
              "  .colab-df-quickchart-complete:disabled:hover {\n",
              "    background-color: var(--disabled-bg-color);\n",
              "    fill: var(--disabled-fill-color);\n",
              "    box-shadow: none;\n",
              "  }\n",
              "\n",
              "  .colab-df-spinner {\n",
              "    border: 2px solid var(--fill-color);\n",
              "    border-color: transparent;\n",
              "    border-bottom-color: var(--fill-color);\n",
              "    animation:\n",
              "      spin 1s steps(1) infinite;\n",
              "  }\n",
              "\n",
              "  @keyframes spin {\n",
              "    0% {\n",
              "      border-color: transparent;\n",
              "      border-bottom-color: var(--fill-color);\n",
              "      border-left-color: var(--fill-color);\n",
              "    }\n",
              "    20% {\n",
              "      border-color: transparent;\n",
              "      border-left-color: var(--fill-color);\n",
              "      border-top-color: var(--fill-color);\n",
              "    }\n",
              "    30% {\n",
              "      border-color: transparent;\n",
              "      border-left-color: var(--fill-color);\n",
              "      border-top-color: var(--fill-color);\n",
              "      border-right-color: var(--fill-color);\n",
              "    }\n",
              "    40% {\n",
              "      border-color: transparent;\n",
              "      border-right-color: var(--fill-color);\n",
              "      border-top-color: var(--fill-color);\n",
              "    }\n",
              "    60% {\n",
              "      border-color: transparent;\n",
              "      border-right-color: var(--fill-color);\n",
              "    }\n",
              "    80% {\n",
              "      border-color: transparent;\n",
              "      border-right-color: var(--fill-color);\n",
              "      border-bottom-color: var(--fill-color);\n",
              "    }\n",
              "    90% {\n",
              "      border-color: transparent;\n",
              "      border-bottom-color: var(--fill-color);\n",
              "    }\n",
              "  }\n",
              "</style>\n",
              "\n",
              "  <script>\n",
              "    async function quickchart(key) {\n",
              "      const quickchartButtonEl =\n",
              "        document.querySelector('#' + key + ' button');\n",
              "      quickchartButtonEl.disabled = true;  // To prevent multiple clicks.\n",
              "      quickchartButtonEl.classList.add('colab-df-spinner');\n",
              "      try {\n",
              "        const charts = await google.colab.kernel.invokeFunction(\n",
              "            'suggestCharts', [key], {});\n",
              "      } catch (error) {\n",
              "        console.error('Error during call to suggestCharts:', error);\n",
              "      }\n",
              "      quickchartButtonEl.classList.remove('colab-df-spinner');\n",
              "      quickchartButtonEl.classList.add('colab-df-quickchart-complete');\n",
              "    }\n",
              "    (() => {\n",
              "      let quickchartButtonEl =\n",
              "        document.querySelector('#df-df279429-5b9b-4dc5-80ea-8dd2b0f22364 button');\n",
              "      quickchartButtonEl.style.display =\n",
              "        google.colab.kernel.accessAllowed ? 'block' : 'none';\n",
              "    })();\n",
              "  </script>\n",
              "</div>\n",
              "\n",
              "    </div>\n",
              "  </div>\n"
            ]
          },
          "metadata": {},
          "execution_count": 3
        }
      ]
    },
    {
      "cell_type": "code",
      "source": [
        "df.describe()"
      ],
      "metadata": {
        "colab": {
          "base_uri": "https://localhost:8080/",
          "height": 320
        },
        "id": "Jn36uFEe4WeH",
        "outputId": "2879efa3-37b6-41e4-f20e-afe6e20cf0a8"
      },
      "execution_count": 4,
      "outputs": [
        {
          "output_type": "execute_result",
          "data": {
            "text/plain": [
              "               age     duration     campaign        pdays     previous  \\\n",
              "count  9640.000000  9640.000000  9640.000000  9640.000000  9640.000000   \n",
              "mean     40.286618   379.564004     2.349170   893.100519     0.306120   \n",
              "std      11.901274   354.768370     2.384519   306.531615     0.684605   \n",
              "min      17.000000     0.000000     1.000000     0.000000     0.000000   \n",
              "25%      31.000000   141.000000     1.000000   999.000000     0.000000   \n",
              "50%      38.000000   260.000000     2.000000   999.000000     0.000000   \n",
              "75%      48.000000   512.000000     3.000000   999.000000     0.000000   \n",
              "max      98.000000  4199.000000    42.000000   999.000000     6.000000   \n",
              "\n",
              "       emp.var.rate  cons.price.idx  cons.conf.idx    euribor3m  nr.employed  \n",
              "count   9640.000000     9640.000000    9640.000000  9640.000000  9640.000000  \n",
              "mean      -0.460218       93.485750     -40.265373     3.003616  5137.407147  \n",
              "std        1.717852        0.631366       5.322795     1.886179    86.347481  \n",
              "min       -3.400000       92.201000     -50.800000     0.634000  4963.600000  \n",
              "25%       -1.800000       92.893000     -42.700000     1.250000  5076.200000  \n",
              "50%       -0.100000       93.444000     -41.800000     4.076000  5191.000000  \n",
              "75%        1.400000       93.994000     -36.400000     4.959000  5228.100000  \n",
              "max        1.400000       94.767000     -26.900000     5.045000  5228.100000  "
            ],
            "text/html": [
              "\n",
              "  <div id=\"df-4288cc64-94ce-4da3-8bd8-95c6481e2e12\" class=\"colab-df-container\">\n",
              "    <div>\n",
              "<style scoped>\n",
              "    .dataframe tbody tr th:only-of-type {\n",
              "        vertical-align: middle;\n",
              "    }\n",
              "\n",
              "    .dataframe tbody tr th {\n",
              "        vertical-align: top;\n",
              "    }\n",
              "\n",
              "    .dataframe thead th {\n",
              "        text-align: right;\n",
              "    }\n",
              "</style>\n",
              "<table border=\"1\" class=\"dataframe\">\n",
              "  <thead>\n",
              "    <tr style=\"text-align: right;\">\n",
              "      <th></th>\n",
              "      <th>age</th>\n",
              "      <th>duration</th>\n",
              "      <th>campaign</th>\n",
              "      <th>pdays</th>\n",
              "      <th>previous</th>\n",
              "      <th>emp.var.rate</th>\n",
              "      <th>cons.price.idx</th>\n",
              "      <th>cons.conf.idx</th>\n",
              "      <th>euribor3m</th>\n",
              "      <th>nr.employed</th>\n",
              "    </tr>\n",
              "  </thead>\n",
              "  <tbody>\n",
              "    <tr>\n",
              "      <th>count</th>\n",
              "      <td>9640.000000</td>\n",
              "      <td>9640.000000</td>\n",
              "      <td>9640.000000</td>\n",
              "      <td>9640.000000</td>\n",
              "      <td>9640.000000</td>\n",
              "      <td>9640.000000</td>\n",
              "      <td>9640.000000</td>\n",
              "      <td>9640.000000</td>\n",
              "      <td>9640.000000</td>\n",
              "      <td>9640.000000</td>\n",
              "    </tr>\n",
              "    <tr>\n",
              "      <th>mean</th>\n",
              "      <td>40.286618</td>\n",
              "      <td>379.564004</td>\n",
              "      <td>2.349170</td>\n",
              "      <td>893.100519</td>\n",
              "      <td>0.306120</td>\n",
              "      <td>-0.460218</td>\n",
              "      <td>93.485750</td>\n",
              "      <td>-40.265373</td>\n",
              "      <td>3.003616</td>\n",
              "      <td>5137.407147</td>\n",
              "    </tr>\n",
              "    <tr>\n",
              "      <th>std</th>\n",
              "      <td>11.901274</td>\n",
              "      <td>354.768370</td>\n",
              "      <td>2.384519</td>\n",
              "      <td>306.531615</td>\n",
              "      <td>0.684605</td>\n",
              "      <td>1.717852</td>\n",
              "      <td>0.631366</td>\n",
              "      <td>5.322795</td>\n",
              "      <td>1.886179</td>\n",
              "      <td>86.347481</td>\n",
              "    </tr>\n",
              "    <tr>\n",
              "      <th>min</th>\n",
              "      <td>17.000000</td>\n",
              "      <td>0.000000</td>\n",
              "      <td>1.000000</td>\n",
              "      <td>0.000000</td>\n",
              "      <td>0.000000</td>\n",
              "      <td>-3.400000</td>\n",
              "      <td>92.201000</td>\n",
              "      <td>-50.800000</td>\n",
              "      <td>0.634000</td>\n",
              "      <td>4963.600000</td>\n",
              "    </tr>\n",
              "    <tr>\n",
              "      <th>25%</th>\n",
              "      <td>31.000000</td>\n",
              "      <td>141.000000</td>\n",
              "      <td>1.000000</td>\n",
              "      <td>999.000000</td>\n",
              "      <td>0.000000</td>\n",
              "      <td>-1.800000</td>\n",
              "      <td>92.893000</td>\n",
              "      <td>-42.700000</td>\n",
              "      <td>1.250000</td>\n",
              "      <td>5076.200000</td>\n",
              "    </tr>\n",
              "    <tr>\n",
              "      <th>50%</th>\n",
              "      <td>38.000000</td>\n",
              "      <td>260.000000</td>\n",
              "      <td>2.000000</td>\n",
              "      <td>999.000000</td>\n",
              "      <td>0.000000</td>\n",
              "      <td>-0.100000</td>\n",
              "      <td>93.444000</td>\n",
              "      <td>-41.800000</td>\n",
              "      <td>4.076000</td>\n",
              "      <td>5191.000000</td>\n",
              "    </tr>\n",
              "    <tr>\n",
              "      <th>75%</th>\n",
              "      <td>48.000000</td>\n",
              "      <td>512.000000</td>\n",
              "      <td>3.000000</td>\n",
              "      <td>999.000000</td>\n",
              "      <td>0.000000</td>\n",
              "      <td>1.400000</td>\n",
              "      <td>93.994000</td>\n",
              "      <td>-36.400000</td>\n",
              "      <td>4.959000</td>\n",
              "      <td>5228.100000</td>\n",
              "    </tr>\n",
              "    <tr>\n",
              "      <th>max</th>\n",
              "      <td>98.000000</td>\n",
              "      <td>4199.000000</td>\n",
              "      <td>42.000000</td>\n",
              "      <td>999.000000</td>\n",
              "      <td>6.000000</td>\n",
              "      <td>1.400000</td>\n",
              "      <td>94.767000</td>\n",
              "      <td>-26.900000</td>\n",
              "      <td>5.045000</td>\n",
              "      <td>5228.100000</td>\n",
              "    </tr>\n",
              "  </tbody>\n",
              "</table>\n",
              "</div>\n",
              "    <div class=\"colab-df-buttons\">\n",
              "\n",
              "  <div class=\"colab-df-container\">\n",
              "    <button class=\"colab-df-convert\" onclick=\"convertToInteractive('df-4288cc64-94ce-4da3-8bd8-95c6481e2e12')\"\n",
              "            title=\"Convert this dataframe to an interactive table.\"\n",
              "            style=\"display:none;\">\n",
              "\n",
              "  <svg xmlns=\"http://www.w3.org/2000/svg\" height=\"24px\" viewBox=\"0 -960 960 960\">\n",
              "    <path d=\"M120-120v-720h720v720H120Zm60-500h600v-160H180v160Zm220 220h160v-160H400v160Zm0 220h160v-160H400v160ZM180-400h160v-160H180v160Zm440 0h160v-160H620v160ZM180-180h160v-160H180v160Zm440 0h160v-160H620v160Z\"/>\n",
              "  </svg>\n",
              "    </button>\n",
              "\n",
              "  <style>\n",
              "    .colab-df-container {\n",
              "      display:flex;\n",
              "      gap: 12px;\n",
              "    }\n",
              "\n",
              "    .colab-df-convert {\n",
              "      background-color: #E8F0FE;\n",
              "      border: none;\n",
              "      border-radius: 50%;\n",
              "      cursor: pointer;\n",
              "      display: none;\n",
              "      fill: #1967D2;\n",
              "      height: 32px;\n",
              "      padding: 0 0 0 0;\n",
              "      width: 32px;\n",
              "    }\n",
              "\n",
              "    .colab-df-convert:hover {\n",
              "      background-color: #E2EBFA;\n",
              "      box-shadow: 0px 1px 2px rgba(60, 64, 67, 0.3), 0px 1px 3px 1px rgba(60, 64, 67, 0.15);\n",
              "      fill: #174EA6;\n",
              "    }\n",
              "\n",
              "    .colab-df-buttons div {\n",
              "      margin-bottom: 4px;\n",
              "    }\n",
              "\n",
              "    [theme=dark] .colab-df-convert {\n",
              "      background-color: #3B4455;\n",
              "      fill: #D2E3FC;\n",
              "    }\n",
              "\n",
              "    [theme=dark] .colab-df-convert:hover {\n",
              "      background-color: #434B5C;\n",
              "      box-shadow: 0px 1px 3px 1px rgba(0, 0, 0, 0.15);\n",
              "      filter: drop-shadow(0px 1px 2px rgba(0, 0, 0, 0.3));\n",
              "      fill: #FFFFFF;\n",
              "    }\n",
              "  </style>\n",
              "\n",
              "    <script>\n",
              "      const buttonEl =\n",
              "        document.querySelector('#df-4288cc64-94ce-4da3-8bd8-95c6481e2e12 button.colab-df-convert');\n",
              "      buttonEl.style.display =\n",
              "        google.colab.kernel.accessAllowed ? 'block' : 'none';\n",
              "\n",
              "      async function convertToInteractive(key) {\n",
              "        const element = document.querySelector('#df-4288cc64-94ce-4da3-8bd8-95c6481e2e12');\n",
              "        const dataTable =\n",
              "          await google.colab.kernel.invokeFunction('convertToInteractive',\n",
              "                                                    [key], {});\n",
              "        if (!dataTable) return;\n",
              "\n",
              "        const docLinkHtml = 'Like what you see? Visit the ' +\n",
              "          '<a target=\"_blank\" href=https://colab.research.google.com/notebooks/data_table.ipynb>data table notebook</a>'\n",
              "          + ' to learn more about interactive tables.';\n",
              "        element.innerHTML = '';\n",
              "        dataTable['output_type'] = 'display_data';\n",
              "        await google.colab.output.renderOutput(dataTable, element);\n",
              "        const docLink = document.createElement('div');\n",
              "        docLink.innerHTML = docLinkHtml;\n",
              "        element.appendChild(docLink);\n",
              "      }\n",
              "    </script>\n",
              "  </div>\n",
              "\n",
              "\n",
              "<div id=\"df-905e447c-65b2-4c0d-a95f-216b6c93bf46\">\n",
              "  <button class=\"colab-df-quickchart\" onclick=\"quickchart('df-905e447c-65b2-4c0d-a95f-216b6c93bf46')\"\n",
              "            title=\"Suggest charts\"\n",
              "            style=\"display:none;\">\n",
              "\n",
              "<svg xmlns=\"http://www.w3.org/2000/svg\" height=\"24px\"viewBox=\"0 0 24 24\"\n",
              "     width=\"24px\">\n",
              "    <g>\n",
              "        <path d=\"M19 3H5c-1.1 0-2 .9-2 2v14c0 1.1.9 2 2 2h14c1.1 0 2-.9 2-2V5c0-1.1-.9-2-2-2zM9 17H7v-7h2v7zm4 0h-2V7h2v10zm4 0h-2v-4h2v4z\"/>\n",
              "    </g>\n",
              "</svg>\n",
              "  </button>\n",
              "\n",
              "<style>\n",
              "  .colab-df-quickchart {\n",
              "      --bg-color: #E8F0FE;\n",
              "      --fill-color: #1967D2;\n",
              "      --hover-bg-color: #E2EBFA;\n",
              "      --hover-fill-color: #174EA6;\n",
              "      --disabled-fill-color: #AAA;\n",
              "      --disabled-bg-color: #DDD;\n",
              "  }\n",
              "\n",
              "  [theme=dark] .colab-df-quickchart {\n",
              "      --bg-color: #3B4455;\n",
              "      --fill-color: #D2E3FC;\n",
              "      --hover-bg-color: #434B5C;\n",
              "      --hover-fill-color: #FFFFFF;\n",
              "      --disabled-bg-color: #3B4455;\n",
              "      --disabled-fill-color: #666;\n",
              "  }\n",
              "\n",
              "  .colab-df-quickchart {\n",
              "    background-color: var(--bg-color);\n",
              "    border: none;\n",
              "    border-radius: 50%;\n",
              "    cursor: pointer;\n",
              "    display: none;\n",
              "    fill: var(--fill-color);\n",
              "    height: 32px;\n",
              "    padding: 0;\n",
              "    width: 32px;\n",
              "  }\n",
              "\n",
              "  .colab-df-quickchart:hover {\n",
              "    background-color: var(--hover-bg-color);\n",
              "    box-shadow: 0 1px 2px rgba(60, 64, 67, 0.3), 0 1px 3px 1px rgba(60, 64, 67, 0.15);\n",
              "    fill: var(--button-hover-fill-color);\n",
              "  }\n",
              "\n",
              "  .colab-df-quickchart-complete:disabled,\n",
              "  .colab-df-quickchart-complete:disabled:hover {\n",
              "    background-color: var(--disabled-bg-color);\n",
              "    fill: var(--disabled-fill-color);\n",
              "    box-shadow: none;\n",
              "  }\n",
              "\n",
              "  .colab-df-spinner {\n",
              "    border: 2px solid var(--fill-color);\n",
              "    border-color: transparent;\n",
              "    border-bottom-color: var(--fill-color);\n",
              "    animation:\n",
              "      spin 1s steps(1) infinite;\n",
              "  }\n",
              "\n",
              "  @keyframes spin {\n",
              "    0% {\n",
              "      border-color: transparent;\n",
              "      border-bottom-color: var(--fill-color);\n",
              "      border-left-color: var(--fill-color);\n",
              "    }\n",
              "    20% {\n",
              "      border-color: transparent;\n",
              "      border-left-color: var(--fill-color);\n",
              "      border-top-color: var(--fill-color);\n",
              "    }\n",
              "    30% {\n",
              "      border-color: transparent;\n",
              "      border-left-color: var(--fill-color);\n",
              "      border-top-color: var(--fill-color);\n",
              "      border-right-color: var(--fill-color);\n",
              "    }\n",
              "    40% {\n",
              "      border-color: transparent;\n",
              "      border-right-color: var(--fill-color);\n",
              "      border-top-color: var(--fill-color);\n",
              "    }\n",
              "    60% {\n",
              "      border-color: transparent;\n",
              "      border-right-color: var(--fill-color);\n",
              "    }\n",
              "    80% {\n",
              "      border-color: transparent;\n",
              "      border-right-color: var(--fill-color);\n",
              "      border-bottom-color: var(--fill-color);\n",
              "    }\n",
              "    90% {\n",
              "      border-color: transparent;\n",
              "      border-bottom-color: var(--fill-color);\n",
              "    }\n",
              "  }\n",
              "</style>\n",
              "\n",
              "  <script>\n",
              "    async function quickchart(key) {\n",
              "      const quickchartButtonEl =\n",
              "        document.querySelector('#' + key + ' button');\n",
              "      quickchartButtonEl.disabled = true;  // To prevent multiple clicks.\n",
              "      quickchartButtonEl.classList.add('colab-df-spinner');\n",
              "      try {\n",
              "        const charts = await google.colab.kernel.invokeFunction(\n",
              "            'suggestCharts', [key], {});\n",
              "      } catch (error) {\n",
              "        console.error('Error during call to suggestCharts:', error);\n",
              "      }\n",
              "      quickchartButtonEl.classList.remove('colab-df-spinner');\n",
              "      quickchartButtonEl.classList.add('colab-df-quickchart-complete');\n",
              "    }\n",
              "    (() => {\n",
              "      let quickchartButtonEl =\n",
              "        document.querySelector('#df-905e447c-65b2-4c0d-a95f-216b6c93bf46 button');\n",
              "      quickchartButtonEl.style.display =\n",
              "        google.colab.kernel.accessAllowed ? 'block' : 'none';\n",
              "    })();\n",
              "  </script>\n",
              "</div>\n",
              "\n",
              "    </div>\n",
              "  </div>\n"
            ]
          },
          "metadata": {},
          "execution_count": 4
        }
      ]
    },
    {
      "cell_type": "code",
      "source": [
        "df.shape"
      ],
      "metadata": {
        "colab": {
          "base_uri": "https://localhost:8080/"
        },
        "id": "MFfmhCEe4ai8",
        "outputId": "a96045a8-2759-4e89-f0c8-7b5807f5d126"
      },
      "execution_count": 5,
      "outputs": [
        {
          "output_type": "execute_result",
          "data": {
            "text/plain": [
              "(9640, 11)"
            ]
          },
          "metadata": {},
          "execution_count": 5
        }
      ]
    },
    {
      "cell_type": "markdown",
      "metadata": {
        "id": "8qRNfLPGNXkD"
      },
      "source": [
        "<table align=\"left\">\n",
        "    <tr>\n",
        "        <td>\n",
        "            <div align=\"left\", style=\"font-size:120%\">\n",
        "                <font color=\"#21618C\">\n",
        "                    <b>Perform an analysis for missing values </b>\n",
        "                </font>\n",
        "            </div>\n",
        "        </td>\n",
        "    </tr>\n",
        "</table>"
      ]
    },
    {
      "cell_type": "code",
      "source": [
        "null_columns = df.columns[df.isnull().any()]\n",
        "print(null_columns)\n",
        "for column in null_columns:\n",
        "  print(column)"
      ],
      "metadata": {
        "colab": {
          "base_uri": "https://localhost:8080/"
        },
        "id": "uniC4-nU377w",
        "outputId": "298d5f8c-c8e5-4703-d225-fc5ac987d674"
      },
      "execution_count": 6,
      "outputs": [
        {
          "output_type": "stream",
          "name": "stdout",
          "text": [
            "Index([], dtype='object')\n"
          ]
        }
      ]
    },
    {
      "cell_type": "markdown",
      "metadata": {
        "id": "ajaa6q-ZNXkD"
      },
      "source": [
        "<table align=\"left\">\n",
        "    <tr>\n",
        "        <td>\n",
        "            <div align=\"left\", style=\"font-size:120%\">\n",
        "                <font color=\"#21618C\">\n",
        "                    <b>Remove the outliers (if any) </b>\n",
        "                </font>\n",
        "            </div>\n",
        "        </td>\n",
        "    </tr>\n",
        "</table>"
      ]
    },
    {
      "cell_type": "code",
      "execution_count": 7,
      "metadata": {
        "id": "oCjgqWkxNXkE",
        "colab": {
          "base_uri": "https://localhost:8080/"
        },
        "outputId": "d2ad3cd7-1903-43fc-e632-b64c6475edcf"
      },
      "outputs": [
        {
          "output_type": "stream",
          "name": "stdout",
          "text": [
            "        age  campaign  cons.conf.idx  cons.price.idx  duration  emp.var.rate  \\\n",
            "0     False     False          False           False     False         False   \n",
            "1     False      True          False           False     False         False   \n",
            "2     False      True          False           False     False         False   \n",
            "3     False     False          False           False     False         False   \n",
            "4     False     False          False           False     False         False   \n",
            "...     ...       ...            ...             ...       ...           ...   \n",
            "9635  False     False          False           False     False         False   \n",
            "9636  False     False          False           False     False         False   \n",
            "9637  False     False          False           False     False         False   \n",
            "9638  False     False          False           False     False         False   \n",
            "9639  False     False          False           False     False         False   \n",
            "\n",
            "      euribor3m  nr.employed  pdays  previous      y  \n",
            "0         False        False  False     False  False  \n",
            "1         False        False  False     False  False  \n",
            "2         False        False  False     False  False  \n",
            "3         False        False   True      True  False  \n",
            "4         False        False  False      True  False  \n",
            "...         ...          ...    ...       ...    ...  \n",
            "9635      False        False  False     False  False  \n",
            "9636      False        False  False     False  False  \n",
            "9637      False        False  False      True  False  \n",
            "9638      False        False  False     False  False  \n",
            "9639      False        False  False     False  False  \n",
            "\n",
            "[9640 rows x 11 columns]\n",
            "age\n",
            "campaign\n",
            "cons.conf.idx\n",
            "duration\n",
            "pdays\n",
            "previous\n"
          ]
        },
        {
          "output_type": "stream",
          "name": "stderr",
          "text": [
            "<ipython-input-7-c5d0e5040e32>:1: FutureWarning: The default value of numeric_only in DataFrame.quantile is deprecated. In a future version, it will default to False. Select only valid columns or specify the value of numeric_only to silence this warning.\n",
            "  Q1 = df.quantile(0.25)\n",
            "<ipython-input-7-c5d0e5040e32>:2: FutureWarning: The default value of numeric_only in DataFrame.quantile is deprecated. In a future version, it will default to False. Select only valid columns or specify the value of numeric_only to silence this warning.\n",
            "  Q2 = df.quantile(0.75)\n",
            "<ipython-input-7-c5d0e5040e32>:5: FutureWarning: Automatic reindexing on DataFrame vs Series comparisons is deprecated and will raise ValueError in a future version. Do `left, right = left.align(right, axis=1, copy=False)` before e.g. `left == right`\n",
            "  outliers = ((df<Q1 - thershold * Q3) | (df>Q2 + thershold *Q3))\n"
          ]
        }
      ],
      "source": [
        "Q1 = df.quantile(0.25)\n",
        "Q2 = df.quantile(0.75)\n",
        "Q3 = Q2 - Q1\n",
        "thershold = 1.5\n",
        "outliers = ((df<Q1 - thershold * Q3) | (df>Q2 + thershold *Q3))\n",
        "print(outliers)\n",
        "for column in outliers:\n",
        "  if any(outliers[column]):\n",
        "    print(column)"
      ]
    },
    {
      "cell_type": "code",
      "source": [
        "remove_outliers = df[~outliers.any(axis = 1)]\n",
        "print(remove_outliers)"
      ],
      "metadata": {
        "colab": {
          "base_uri": "https://localhost:8080/"
        },
        "id": "emZ0dp7sJNAl",
        "outputId": "4d41e094-ae77-4fef-a593-b32ec6795d58"
      },
      "execution_count": 8,
      "outputs": [
        {
          "output_type": "stream",
          "name": "stdout",
          "text": [
            "      age  duration  campaign  pdays  previous  emp.var.rate  cons.price.idx  \\\n",
            "0      32       205         2    999         0           1.1          93.994   \n",
            "5      25       243         3    999         0          -1.8          92.843   \n",
            "6      36       214         1    999         0          -0.1          93.200   \n",
            "7      43       550         1    999         0           1.1          93.994   \n",
            "8      52        64         1    999         0           1.1          93.994   \n",
            "...   ...       ...       ...    ...       ...           ...             ...   \n",
            "9634   30       475         5    999         0          -3.4          92.379   \n",
            "9635   37       854         3    999         0           1.4          94.465   \n",
            "9636   40       353         2    999         0           1.4          93.918   \n",
            "9638   39       233         1    999         0           1.4          94.465   \n",
            "9639   35       417         1    999         0           1.4          94.465   \n",
            "\n",
            "      cons.conf.idx  euribor3m  nr.employed    y  \n",
            "0             -36.4      4.858       5191.0   no  \n",
            "5             -50.0      1.531       5099.1  yes  \n",
            "6             -42.0      4.120       5195.8   no  \n",
            "7             -36.4      4.857       5191.0   no  \n",
            "8             -36.4      4.855       5191.0   no  \n",
            "...             ...        ...          ...  ...  \n",
            "9634          -29.8      0.781       5017.5  yes  \n",
            "9635          -41.8      4.961       5228.1   no  \n",
            "9636          -42.7      4.960       5228.1   no  \n",
            "9638          -41.8      4.864       5228.1   no  \n",
            "9639          -41.8      4.962       5228.1   no  \n",
            "\n",
            "[6555 rows x 11 columns]\n"
          ]
        }
      ]
    },
    {
      "cell_type": "markdown",
      "metadata": {
        "id": "tOjt_ZA1NXkE"
      },
      "source": [
        "<table align=\"left\">\n",
        "    <tr>\n",
        "        <td>\n",
        "            <div align=\"left\", style=\"font-size:120%\">\n",
        "                <font color=\"#21618C\">\n",
        "                    <b>Separate the dependent and the independent variables. Also, in the target variable, replace yes with 0 and no with 1 </b>\n",
        "                </font>\n",
        "            </div>\n",
        "        </td>\n",
        "    </tr>\n",
        "</table>"
      ]
    },
    {
      "cell_type": "code",
      "source": [
        "yes_no = 'y'\n",
        "df[yes_no] = df[yes_no].replace({'yes':0,'no':1})\n",
        "print(df['y'])"
      ],
      "metadata": {
        "colab": {
          "base_uri": "https://localhost:8080/"
        },
        "id": "V5SgmA0RZhXb",
        "outputId": "e22c15a5-ff9f-4954-a21a-48bdbc5c6879"
      },
      "execution_count": 9,
      "outputs": [
        {
          "output_type": "stream",
          "name": "stdout",
          "text": [
            "0       1\n",
            "1       0\n",
            "2       1\n",
            "3       0\n",
            "4       0\n",
            "       ..\n",
            "9635    1\n",
            "9636    1\n",
            "9637    1\n",
            "9638    1\n",
            "9639    1\n",
            "Name: y, Length: 9640, dtype: int64\n"
          ]
        }
      ]
    },
    {
      "cell_type": "code",
      "source": [
        "dependent_variable = 'y'\n",
        "print(\"Dependent Variable:\")\n",
        "print(dependent_variable)"
      ],
      "metadata": {
        "colab": {
          "base_uri": "https://localhost:8080/"
        },
        "id": "hWJuFRzxXR81",
        "outputId": "6941207f-8d3f-43f6-9c39-77adcad40ad6"
      },
      "execution_count": 10,
      "outputs": [
        {
          "output_type": "stream",
          "name": "stdout",
          "text": [
            "Dependent Variable:\n",
            "y\n"
          ]
        }
      ]
    },
    {
      "cell_type": "code",
      "source": [
        "independent_variable = df.drop(columns = [dependent_variable])\n",
        "print(\"\\nIndependent Variable\")\n",
        "print(independent_variable.columns)"
      ],
      "metadata": {
        "colab": {
          "base_uri": "https://localhost:8080/"
        },
        "id": "BqQ9fXpAabum",
        "outputId": "9d4308bf-dda3-4dcd-9646-117bcf075d67"
      },
      "execution_count": 11,
      "outputs": [
        {
          "output_type": "stream",
          "name": "stdout",
          "text": [
            "\n",
            "Independent Variable\n",
            "Index(['age', 'duration', 'campaign', 'pdays', 'previous', 'emp.var.rate',\n",
            "       'cons.price.idx', 'cons.conf.idx', 'euribor3m', 'nr.employed'],\n",
            "      dtype='object')\n"
          ]
        }
      ]
    },
    {
      "cell_type": "markdown",
      "metadata": {
        "id": "Qn7ScnIvNXkF"
      },
      "source": [
        "<table align=\"left\">\n",
        "    <tr>\n",
        "        <td>\n",
        "            <div align=\"left\", style=\"font-size:120%\">\n",
        "                <font color=\"#21618C\">\n",
        "                    <b>Remove the unnecessary variables that will not contribute to the model. </b>\n",
        "                </font>\n",
        "            </div>\n",
        "        </td>\n",
        "    </tr>\n",
        "</table>"
      ]
    },
    {
      "cell_type": "code",
      "execution_count": 12,
      "metadata": {
        "id": "8OZOA2e-NXkF",
        "colab": {
          "base_uri": "https://localhost:8080/"
        },
        "outputId": "615947a7-60f8-4e86-cb1c-27faee0d29a0"
      },
      "outputs": [
        {
          "output_type": "stream",
          "name": "stdout",
          "text": [
            "      age  emp.var.rate  cons.price.idx  cons.conf.idx  nr.employed  y\n",
            "0      32           1.1          93.994          -36.4       5191.0  1\n",
            "1      32           1.4          93.918          -42.7       5228.1  0\n",
            "2      45           1.4          93.444          -36.1       5228.1  1\n",
            "3      33          -1.1          94.601          -49.5       4963.6  0\n",
            "4      47          -1.8          93.075          -47.1       5099.1  0\n",
            "...   ...           ...             ...            ...          ... ..\n",
            "9635   37           1.4          94.465          -41.8       5228.1  1\n",
            "9636   40           1.4          93.918          -42.7       5228.1  1\n",
            "9637   42          -0.1          93.200          -42.0       5195.8  1\n",
            "9638   39           1.4          94.465          -41.8       5228.1  1\n",
            "9639   35           1.4          94.465          -41.8       5228.1  1\n",
            "\n",
            "[9640 rows x 6 columns]\n"
          ]
        }
      ],
      "source": [
        "unnecessary =['duration','campaign','pdays','previous','euribor3m']\n",
        "unnecessary_columns = df.drop(columns = unnecessary)\n",
        "print(unnecessary_columns)"
      ]
    },
    {
      "cell_type": "markdown",
      "metadata": {
        "id": "w6HdrWNhNXkF"
      },
      "source": [
        "<table align=\"left\">\n",
        "    <tr>\n",
        "        <td>\n",
        "            <div align=\"left\", style=\"font-size:120%\">\n",
        "                <font color=\"#21618C\">\n",
        "                    <b>Plot the distribution of all the numeric variables and find the value of skewness for each variable. </b>\n",
        "                </font>\n",
        "            </div>\n",
        "        </td>\n",
        "    </tr>\n",
        "</table>"
      ]
    },
    {
      "cell_type": "code",
      "execution_count": 13,
      "metadata": {
        "id": "idx98LnaNXkG",
        "colab": {
          "base_uri": "https://localhost:8080/",
          "height": 1000
        },
        "outputId": "c8f169af-a76f-42d3-b17a-ac5c891cf905"
      },
      "outputs": [
        {
          "output_type": "display_data",
          "data": {
            "text/plain": [
              "<Figure size 800x500 with 1 Axes>"
            ],
            "image/png": "[encoded data removed]"
          },
          "metadata": {}
        },
        {
          "output_type": "stream",
          "name": "stdout",
          "text": [
            "Skewness of age: 0.9903804270348292\n"
          ]
        },
        {
          "output_type": "display_data",
          "data": {
            "text/plain": [
              "<Figure size 800x500 with 1 Axes>"
            ],
            "image/png": "[encoded data removed]"
          },
          "metadata": {}
        },
        {
          "output_type": "stream",
          "name": "stdout",
          "text": [
            "Skewness of duration: 2.2559705192271338\n"
          ]
        },
        {
          "output_type": "display_data",
          "data": {
            "text/plain": [
              "<Figure size 800x500 with 1 Axes>"
            ],
            "image/png": "[encoded data removed]"
          },
          "metadata": {}
        },
        {
          "output_type": "stream",
          "name": "stdout",
          "text": [
            "Skewness of campaign: 5.098047191490148\n"
          ]
        },
        {
          "output_type": "display_data",
          "data": {
            "text/plain": [
              "<Figure size 800x500 with 1 Axes>"
            ],
            "image/png": "[encoded data removed]"
          },
          "metadata": {}
        },
        {
          "output_type": "stream",
          "name": "stdout",
          "text": [
            "Skewness of pdays: -2.5489592677537245\n"
          ]
        },
        {
          "output_type": "display_data",
          "data": {
            "text/plain": [
              "<Figure size 800x500 with 1 Axes>"
            ],
            "image/png": "[encoded data removed]"
          },
          "metadata": {}
        },
        {
          "output_type": "stream",
          "name": "stdout",
          "text": [
            "Skewness of previous: 2.8951485145735223\n"
          ]
        },
        {
          "output_type": "display_data",
          "data": {
            "text/plain": [
              "<Figure size 800x500 with 1 Axes>"
            ],
            "image/png": "[encoded data removed]"
          },
          "metadata": {}
        },
        {
          "output_type": "stream",
          "name": "stdout",
          "text": [
            "Skewness of emp.var.rate: -0.18120587625934212\n"
          ]
        },
        {
          "output_type": "display_data",
          "data": {
            "text/plain": [
              "<Figure size 800x500 with 1 Axes>"
            ],
            "image/png": "[encoded data removed]"
          },
          "metadata": {}
        },
        {
          "output_type": "stream",
          "name": "stdout",
          "text": [
            "Skewness of cons.price.idx: -0.12519646060382836\n"
          ]
        },
        {
          "output_type": "display_data",
          "data": {
            "text/plain": [
              "<Figure size 800x500 with 1 Axes>"
            ],
            "image/png": "[encoded data removed]"
          },
          "metadata": {}
        },
        {
          "output_type": "stream",
          "name": "stdout",
          "text": [
            "Skewness of cons.conf.idx: 0.3503869766778883\n"
          ]
        },
        {
          "output_type": "display_data",
          "data": {
            "text/plain": [
              "<Figure size 800x500 with 1 Axes>"
            ],
            "image/png": "[encoded data removed]"
          },
          "metadata": {}
        },
        {
          "output_type": "stream",
          "name": "stdout",
          "text": [
            "Skewness of euribor3m: -0.05832253579164721\n"
          ]
        },
        {
          "output_type": "display_data",
          "data": {
            "text/plain": [
              "<Figure size 800x500 with 1 Axes>"
            ],
            "image/png": "[encoded data removed]"
          },
          "metadata": {}
        },
        {
          "output_type": "stream",
          "name": "stdout",
          "text": [
            "Skewness of nr.employed: -0.4635089005184345\n"
          ]
        },
        {
          "output_type": "display_data",
          "data": {
            "text/plain": [
              "<Figure size 800x500 with 1 Axes>"
            ],
            "image/png": "[encoded data removed]"
          },
          "metadata": {}
        },
        {
          "output_type": "stream",
          "name": "stdout",
          "text": [
            "Skewness of y: -0.07474093186836626\n"
          ]
        }
      ],
      "source": [
        "numeric_columns = df.select_dtypes(include=['float64', 'int64']).columns\n",
        "for column in numeric_columns:\n",
        "    plt.figure(figsize=(8, 5))\n",
        "    plt.title(f'Distribution of {column}')\n",
        "    plt.hist(df[column], bins=30, edgecolor='black')\n",
        "    plt.xlabel(column)\n",
        "    plt.ylabel('Frequency')\n",
        "    plt.show()\n",
        "\n",
        "    skewness = skew(df[column])\n",
        "    print(f'Skewness of {column}: {skewness}')\n"
      ]
    },
    {
      "cell_type": "markdown",
      "metadata": {
        "id": "08E6tbcWNXkG"
      },
      "source": [
        "<table align=\"left\">\n",
        "    <tr>\n",
        "        <td>\n",
        "            <div align=\"left\", style=\"font-size:120%\">\n",
        "                <font color=\"#21618C\">\n",
        "                    <b>Plot the distribution of the target variable.</b>\n",
        "                </font>\n",
        "            </div>\n",
        "        </td>\n",
        "    </tr>\n",
        "</table>"
      ]
    },
    {
      "cell_type": "code",
      "execution_count": 14,
      "metadata": {
        "id": "qX1-5Eq9NXkG",
        "colab": {
          "base_uri": "https://localhost:8080/",
          "height": 437
        },
        "outputId": "fab1709a-5287-4ac9-cc84-cea76a954463"
      },
      "outputs": [
        {
          "output_type": "display_data",
          "data": {
            "text/plain": [
              "<Figure size 800x500 with 1 Axes>"
            ],
            "image/png": "[encoded data removed]"
          },
          "metadata": {}
        }
      ],
      "source": [
        "column='y'\n",
        "plt.figure(figsize=(8, 5))\n",
        "plt.title(f'Distribution of {column}')\n",
        "plt.hist(df[column], bins=30, edgecolor='black')\n",
        "plt.xlabel(column)\n",
        "plt.ylabel('Frequency')\n",
        "plt.show()"
      ]
    },
    {
      "cell_type": "markdown",
      "metadata": {
        "id": "UTOyWNgWNXkG"
      },
      "source": [
        "<table align=\"left\">\n",
        "    <tr>\n",
        "        <td>\n",
        "            <div align=\"left\", style=\"font-size:120%\">\n",
        "                <font color=\"#21618C\">\n",
        "                    <b>Scale all the numeric variables using standard scalar.</b>\n",
        "                </font>\n",
        "            </div>\n",
        "        </td>\n",
        "    </tr>\n",
        "</table>"
      ]
    },
    {
      "cell_type": "code",
      "execution_count": 15,
      "metadata": {
        "id": "35w_NPPONXkH"
      },
      "outputs": [],
      "source": [
        "numeric_columns = df.select_dtypes(include=['float64', 'int64']).columns\n",
        "scaler= StandardScaler()\n",
        "df[numeric_columns] = scaler.fit_transform(df[numeric_columns])"
      ]
    },
    {
      "cell_type": "markdown",
      "metadata": {
        "id": "4zWEnsRZNXkH"
      },
      "source": [
        "<a id=\"logreg\"> </a>\n",
        "## 2. Logistic regression model"
      ]
    },
    {
      "cell_type": "code",
      "execution_count": 16,
      "metadata": {
        "id": "vsmhQ4C7NXkH",
        "colab": {
          "base_uri": "https://localhost:8080/"
        },
        "outputId": "a1fc44ec-4feb-4e38-ee09-72a0a3db566e"
      },
      "outputs": [
        {
          "output_type": "stream",
          "name": "stdout",
          "text": [
            "Classification Report:\n",
            "              precision    recall  f1-score   support\n",
            "\n",
            "           0       0.84      0.85      0.84       924\n",
            "           1       0.86      0.85      0.86      1004\n",
            "\n",
            "    accuracy                           0.85      1928\n",
            "   macro avg       0.85      0.85      0.85      1928\n",
            "weighted avg       0.85      0.85      0.85      1928\n",
            "\n",
            "Accuracy: 0.8506224066390041\n"
          ]
        }
      ],
      "source": [
        "X = df.drop('y', axis=1)\n",
        "y = df['y']\n",
        "y = pd.cut(y, bins=[-float('inf'), 0.5, float('inf')], labels=[0, 1])\n",
        "X_train, X_test, y_train, y_test = train_test_split(X, y, test_size=0.2, random_state=42)\n",
        "log_reg_model = LogisticRegression()\n",
        "log_reg_model.fit(X_train, y_train)\n",
        "y_pred = log_reg_model.predict(X_test)\n",
        "print(\"Classification Report:\")\n",
        "print(classification_report(y_test, y_pred))\n",
        "print(\"Accuracy:\", accuracy_score(y_test, y_pred))\n"
      ]
    },
    {
      "cell_type": "markdown",
      "metadata": {
        "collapsed": true,
        "id": "0SzVmYB_NXkH"
      },
      "source": [
        "<table align=\"left\">\n",
        "    <tr>\n",
        "        <td>\n",
        "            <div align=\"left\", style=\"font-size:120%\">\n",
        "                <font color=\"#21618C\">\n",
        "                    <b>How does a unit change in each feature influence the odds of a client subscribed a term deposit or not?</b>\n",
        "                </font>\n",
        "            </div>\n",
        "        </td>\n",
        "    </tr>\n",
        "</table>"
      ]
    },
    {
      "cell_type": "code",
      "execution_count": 17,
      "metadata": {
        "id": "ikGBlpO0NXkH",
        "colab": {
          "base_uri": "https://localhost:8080/"
        },
        "outputId": "0ddc4a72-ee08-4fb9-97b8-c9396209ddd3"
      },
      "outputs": [
        {
          "output_type": "stream",
          "name": "stdout",
          "text": [
            "          Feature  Coefficient  Odds Ratio\n",
            "0             age    -0.046293      0.9548\n",
            "1        duration    -2.383158      0.0923\n",
            "2        campaign     0.062372      1.0644\n",
            "3           pdays     0.685895      1.9855\n",
            "4        previous     0.223606      1.2506\n",
            "5    emp.var.rate     1.589344      4.9005\n",
            "6  cons.price.idx    -0.190979      0.8261\n",
            "7   cons.conf.idx    -0.087747      0.9160\n",
            "8       euribor3m    -0.960182      0.3828\n",
            "9     nr.employed     1.141055      3.1301\n"
          ]
        }
      ],
      "source": [
        "coefficients = log_reg_model.coef_[0]\n",
        "feature_names = X.columns\n",
        "coefficients_df = pd.DataFrame({'Feature': feature_names, 'Coefficient': coefficients})\n",
        "coefficients_df['Odds Ratio'] = coefficients_df['Coefficient'].apply(lambda x: round(np.exp(x), 4))\n",
        "print(coefficients_df)"
      ]
    },
    {
      "cell_type": "markdown",
      "metadata": {
        "id": "e_9HtOICNXkH"
      },
      "source": [
        "<table align=\"left\">\n",
        "    <tr>\n",
        "        <td>\n",
        "            <div align=\"left\", style=\"font-size:120%\">\n",
        "                <font color=\"#21618C\">\n",
        "                    <b>Determining optimal threshold</b>\n",
        "                </font>\n",
        "            </div>\n",
        "        </td>\n",
        "    </tr>\n",
        "</table>"
      ]
    },
    {
      "cell_type": "code",
      "execution_count": 18,
      "metadata": {
        "id": "-mmSTsqeNXkH",
        "colab": {
          "base_uri": "https://localhost:8080/",
          "height": 533
        },
        "outputId": "749d7569-ffa3-4ffe-c310-b25a1bcb8531"
      },
      "outputs": [
        {
          "output_type": "display_data",
          "data": {
            "text/plain": [
              "<Figure size 800x600 with 1 Axes>"
            ],
            "image/png": "[encoded data removed]"
          },
          "metadata": {}
        },
        {
          "output_type": "stream",
          "name": "stdout",
          "text": [
            "Optimal Threshold based on F1-score: 0.4623213092243197\n"
          ]
        }
      ],
      "source": [
        "y_probs = log_reg_model.predict_proba(X_test)[:, 1]\n",
        "precision, recall, thresholds = precision_recall_curve(y_test, y_probs)\n",
        "plt.figure(figsize=(8, 6))\n",
        "plt.plot(recall, precision)\n",
        "plt.xlabel('Recall')\n",
        "plt.ylabel('Precision')\n",
        "plt.title('Precision-Recall Curve')\n",
        "plt.show()\n",
        "f1_scores = 2 * (precision * recall) / (precision + recall)\n",
        "optimal_threshold = thresholds[f1_scores.argmax()]\n",
        "print(\"Optimal Threshold based on F1-score:\", optimal_threshold)"
      ]
    },
    {
      "cell_type": "markdown",
      "metadata": {
        "collapsed": true,
        "id": "FxhZfQKdNXkI"
      },
      "source": [
        "<table align=\"left\">\n",
        "    <tr>\n",
        "        <td>\n",
        "            <div align=\"left\", style=\"font-size:120%\">\n",
        "                <font color=\"#21618C\">\n",
        "                        <b>For the full model, calculate the accuracy manually using the confusion matrix. Consider 0.5 as the probability threshold.</b>\n",
        "                </font>\n",
        "            </div>\n",
        "        </td>\n",
        "    </tr>\n",
        "</table>"
      ]
    },
    {
      "cell_type": "code",
      "execution_count": 19,
      "metadata": {
        "id": "1Fo4EVD1NXkI",
        "colab": {
          "base_uri": "https://localhost:8080/"
        },
        "outputId": "119e412e-b94a-4749-c9d7-0912e221e344"
      },
      "outputs": [
        {
          "output_type": "stream",
          "name": "stdout",
          "text": [
            "Manually Calculated Accuracy: 0.8506224066390041\n"
          ]
        }
      ],
      "source": [
        "y_probs = log_reg_model.predict_proba(X_test)[:, 1]\n",
        "y_pred = (y_probs >= 0.5).astype(int)\n",
        "tn, fp, fn, tp = confusion_matrix(y_test, y_pred).ravel()\n",
        "accuracy = (tp + tn) / (tp + tn + fp + fn)\n",
        "print(\"Manually Calculated Accuracy:\", accuracy)"
      ]
    },
    {
      "cell_type": "markdown",
      "metadata": {
        "collapsed": true,
        "id": "Cc3IhIRANXkI"
      },
      "source": [
        "<table align=\"left\">\n",
        "    <tr>\n",
        "        <td>\n",
        "            <div align=\"left\", style=\"font-size:120%\">\n",
        "                <font color=\"#21618C\">\n",
        "                    <b>Calculate value of kappa for the full model . Consider threshold value as 0.18</b>\n",
        "                </font>\n",
        "            </div>\n",
        "        </td>\n",
        "    </tr>\n",
        "</table>"
      ]
    },
    {
      "cell_type": "code",
      "execution_count": 20,
      "metadata": {
        "id": "u-yTab1UNXkI",
        "colab": {
          "base_uri": "https://localhost:8080/"
        },
        "outputId": "994c5641-8e84-4c7a-e575-1ef2f02585a1"
      },
      "outputs": [
        {
          "output_type": "stream",
          "name": "stdout",
          "text": [
            "Cohen's Kappa: 0.5436604073921827\n"
          ]
        }
      ],
      "source": [
        "y_probs = log_reg_model.predict_proba(X_test)[:, 1]\n",
        "threshold = 0.18\n",
        "y_pred = (y_probs >= threshold).astype(int)\n",
        "kappa = cohen_kappa_score(y_test, y_pred)\n",
        "print(\"Cohen's Kappa:\", kappa)"
      ]
    },
    {
      "cell_type": "markdown",
      "metadata": {
        "collapsed": true,
        "id": "GXUI5W_INXkI"
      },
      "source": [
        "<table align=\"left\">\n",
        "    <tr>\n",
        "        <td>\n",
        "            <div align=\"left\", style=\"font-size:120%\">\n",
        "                <font color=\"#21618C\">\n",
        "                    <b>Calculate the cross entropy for the logistic regression model.</b>\n",
        "                </font>\n",
        "            </div>\n",
        "        </td>\n",
        "    </tr>\n",
        "</table>"
      ]
    },
    {
      "cell_type": "code",
      "execution_count": 21,
      "metadata": {
        "id": "ZU32q_A5NXkI",
        "colab": {
          "base_uri": "https://localhost:8080/"
        },
        "outputId": "a0e5bec9-f46a-4090-ee96-a268c000cbc4"
      },
      "outputs": [
        {
          "output_type": "stream",
          "name": "stdout",
          "text": [
            "Cross-Entropy: 0.35904096666819635\n"
          ]
        }
      ],
      "source": [
        "y_probs = log_reg_model.predict_proba(X_test)[:, 1]\n",
        "y_test_numeric = y_test.cat.codes if y_test.dtype.name == 'category' else y_test\n",
        "epsilon = 1e-15\n",
        "cross_entropy = -np.mean(y_test_numeric * np.log(y_probs + epsilon) + (1 - y_test_numeric) * np.log(1 - y_probs + epsilon))\n",
        "print(\"Cross-Entropy:\", cross_entropy)"
      ]
    },
    {
      "cell_type": "markdown",
      "metadata": {
        "collapsed": true,
        "id": "X3GrISIdNXkI"
      },
      "source": [
        "<table align=\"left\">\n",
        "    <tr>\n",
        "        <td>\n",
        "            <div align=\"left\", style=\"font-size:120%\">\n",
        "                <font color=\"#21618C\">\n",
        "                    <b>Predict whether a client subscribed a term deposit or not. For the logistic regression model find the following:<br> <ol type = \"a\">\n",
        "                        <li> Precision </li>\n",
        "                        <li> Recall</li>   \n",
        "                        <li> F<sub>1</sub> score </li>\n",
        "                        </ol>\n",
        "                    </b>\n",
        "                </font>\n",
        "            </div>\n",
        "        </td>\n",
        "    </tr>\n",
        "</table>"
      ]
    },
    {
      "cell_type": "code",
      "source": [
        "y_probs = log_reg_model.predict_proba(X_test)[:, 1]\n",
        "y_pred = (y_probs >= 0.5).astype(int)\n",
        "report = classification_report(y_test, y_pred)\n",
        "print(\"Classification Report:\")\n",
        "print(report)"
      ],
      "metadata": {
        "colab": {
          "base_uri": "https://localhost:8080/"
        },
        "id": "mr_hwtrhD9C9",
        "outputId": "2e9e2fb3-8d6f-4c2b-d0b7-43cd941c8bc0"
      },
      "execution_count": 22,
      "outputs": [
        {
          "output_type": "stream",
          "name": "stdout",
          "text": [
            "Classification Report:\n",
            "              precision    recall  f1-score   support\n",
            "\n",
            "           0       0.84      0.85      0.84       924\n",
            "           1       0.86      0.85      0.86      1004\n",
            "\n",
            "    accuracy                           0.85      1928\n",
            "   macro avg       0.85      0.85      0.85      1928\n",
            "weighted avg       0.85      0.85      0.85      1928\n",
            "\n"
          ]
        }
      ]
    },
    {
      "cell_type": "markdown",
      "metadata": {
        "id": "2mYJPTA8NXkI"
      },
      "source": [
        "## 3.Build a Decision Tree model and generate a classification report.\n",
        "\n"
      ]
    },
    {
      "cell_type": "code",
      "execution_count": 23,
      "metadata": {
        "id": "GOX8BGA9NXkJ",
        "colab": {
          "base_uri": "https://localhost:8080/"
        },
        "outputId": "62f3c97d-37f5-4dec-be04-9664c826461d"
      },
      "outputs": [
        {
          "output_type": "stream",
          "name": "stdout",
          "text": [
            "              precision    recall  f1-score   support\n",
            "\n",
            "           0       0.82      0.82      0.82       924\n",
            "           1       0.84      0.84      0.84      1004\n",
            "\n",
            "    accuracy                           0.83      1928\n",
            "   macro avg       0.83      0.83      0.83      1928\n",
            "weighted avg       0.83      0.83      0.83      1928\n",
            "\n"
          ]
        }
      ],
      "source": [
        "X = df.drop('y', axis=1)\n",
        "y = df['y']\n",
        "y = pd.cut(y, bins=[-float('inf'), 0.5, float('inf')], labels=[0, 1])\n",
        "X_train, X_test, y_train, y_test = train_test_split(X, y, test_size=0.2, random_state=42)\n",
        "model = DecisionTreeClassifier()\n",
        "model.fit(X_train, y_train)\n",
        "y_pred = model.predict(X_test)\n",
        "report = classification_report(y_test, y_pred)\n",
        "print(report)"
      ]
    },
    {
      "cell_type": "markdown",
      "metadata": {
        "collapsed": true,
        "id": "FKXHQa9qNXkO"
      },
      "source": [
        "<table align=\"left\">\n",
        "    <tr>\n",
        "        <td>\n",
        "            <div align=\"left\", style=\"font-size:120%\">\n",
        "                <font color=\"#21618C\">\n",
        "                    <b>Determining optimal hyperparameters using GridSearchCV</b>\n",
        "                </font>\n",
        "            </div>\n",
        "        </td>\n",
        "    </tr>\n",
        "</table>"
      ]
    },
    {
      "cell_type": "code",
      "execution_count": 24,
      "metadata": {
        "id": "Me8j1IVCNXkO",
        "colab": {
          "base_uri": "https://localhost:8080/"
        },
        "outputId": "7c4e9a7c-c382-417c-bae7-53cc03ccb1e6"
      },
      "outputs": [
        {
          "output_type": "stream",
          "name": "stdout",
          "text": [
            "Fitting 5 folds for each of 90 candidates, totalling 450 fits\n",
            "Best Parameters: {'criterion': 'entropy', 'max_depth': 10, 'min_samples_leaf': 4, 'min_samples_split': 2}\n",
            "              precision    recall  f1-score   support\n",
            "\n",
            "           0       0.85      0.90      0.87       924\n",
            "           1       0.90      0.86      0.88      1004\n",
            "\n",
            "    accuracy                           0.88      1928\n",
            "   macro avg       0.88      0.88      0.88      1928\n",
            "weighted avg       0.88      0.88      0.88      1928\n",
            "\n"
          ]
        }
      ],
      "source": [
        "X = df.drop('y', axis=1)\n",
        "y = df['y']\n",
        "y = pd.cut(y, bins=[-float('inf'), 0.5, float('inf')], labels=[0, 1])\n",
        "X_train, X_test, y_train, y_test = train_test_split(X, y, test_size=0.2, random_state=42)\n",
        "model = DecisionTreeClassifier()\n",
        "param_grid = {\n",
        "    'criterion': ['gini', 'entropy'],\n",
        "    'max_depth': [None, 5, 10, 15, 20],\n",
        "    'min_samples_split': [2, 5, 10],\n",
        "    'min_samples_leaf': [1, 2, 4]\n",
        "}\n",
        "grid_search = GridSearchCV(estimator=model, param_grid=param_grid, cv=5, scoring='accuracy', verbose=1, n_jobs=-1)\n",
        "grid_search.fit(X_train, y_train)\n",
        "best_params = grid_search.best_params_\n",
        "best_estimator = grid_search.best_estimator_\n",
        "print(\"Best Parameters:\", best_params)\n",
        "y_pred = best_estimator.predict(X_test)\n",
        "report = classification_report(y_test, y_pred)\n",
        "print(report)\n"
      ]
    },
    {
      "cell_type": "markdown",
      "metadata": {
        "collapsed": true,
        "id": "bx-DLfjbNXkO"
      },
      "source": [
        "<table align=\"left\">\n",
        "    <tr>\n",
        "        <td>\n",
        "            <div align=\"left\", style=\"font-size:120%\">\n",
        "                <font color=\"#21618C\">\n",
        "                    <b>Compare the Full model and optimized model using model performance metrics\n",
        "                    </b>\n",
        "                </font>\n",
        "            </div>\n",
        "        </td>\n",
        "    </tr>\n",
        "</table>"
      ]
    },
    {
      "cell_type": "code",
      "execution_count": 25,
      "metadata": {
        "id": "JRwctPr3NXkO",
        "colab": {
          "base_uri": "https://localhost:8080/"
        },
        "outputId": "18ee98c7-7ef8-46e1-9ffe-08e14323f188"
      },
      "outputs": [
        {
          "output_type": "stream",
          "name": "stdout",
          "text": [
            "Performance of Full Model:\n",
            "              precision    recall  f1-score   support\n",
            "\n",
            "           0       0.82      0.83      0.82       924\n",
            "           1       0.84      0.84      0.84      1004\n",
            "\n",
            "    accuracy                           0.83      1928\n",
            "   macro avg       0.83      0.83      0.83      1928\n",
            "weighted avg       0.83      0.83      0.83      1928\n",
            "\n",
            "Accuracy of Full Model: 0.8314315352697096\n",
            "Fitting 5 folds for each of 90 candidates, totalling 450 fits\n",
            "\n",
            "Performance of Optimized Model:\n",
            "              precision    recall  f1-score   support\n",
            "\n",
            "           0       0.85      0.90      0.87       924\n",
            "           1       0.90      0.86      0.88      1004\n",
            "\n",
            "    accuracy                           0.88      1928\n",
            "   macro avg       0.88      0.88      0.88      1928\n",
            "weighted avg       0.88      0.88      0.88      1928\n",
            "\n",
            "Accuracy of Optimized Model: 0.8760373443983402\n"
          ]
        }
      ],
      "source": [
        "X = df.drop('y', axis=1)\n",
        "y = df['y']\n",
        "y = pd.cut(y, bins=[-float('inf'), 0.5, float('inf')], labels=[0, 1])\n",
        "X_train, X_test, y_train, y_test = train_test_split(X, y, test_size=0.2, random_state=42)\n",
        "full_model = DecisionTreeClassifier(random_state=42)\n",
        "full_model.fit(X_train, y_train)\n",
        "y_pred_full = full_model.predict(X_test)\n",
        "print(\"Performance of Full Model:\")\n",
        "print(classification_report(y_test, y_pred_full))\n",
        "print(\"Accuracy of Full Model:\", accuracy_score(y_test, y_pred_full))\n",
        "optimized_model = DecisionTreeClassifier(random_state=42)\n",
        "param_grid = {\n",
        "    'criterion': ['gini', 'entropy'],\n",
        "    'max_depth': [None, 5, 10, 15, 20],\n",
        "    'min_samples_split': [2, 5, 10],\n",
        "    'min_samples_leaf': [1, 2, 4]\n",
        "}\n",
        "grid_search = GridSearchCV(estimator=optimized_model, param_grid=param_grid, cv=5, scoring='accuracy', verbose=1, n_jobs=-1)\n",
        "grid_search.fit(X_train, y_train)\n",
        "best_estimator = grid_search.best_estimator_\n",
        "y_pred_optimized = best_estimator.predict(X_test)\n",
        "print(\"\\nPerformance of Optimized Model:\")\n",
        "print(classification_report(y_test, y_pred_optimized))\n",
        "print(\"Accuracy of Optimized Model:\", accuracy_score(y_test, y_pred_optimized))\n"
      ]
    },
    {
      "cell_type": "markdown",
      "metadata": {
        "id": "Oh376HR8NXkO"
      },
      "source": [
        "## 4.Build a Random Forest model with n_estimators=30 and generate a classification report.\n",
        "\n"
      ]
    },
    {
      "cell_type": "code",
      "execution_count": 26,
      "metadata": {
        "id": "3XJH3O5YNXkO",
        "colab": {
          "base_uri": "https://localhost:8080/"
        },
        "outputId": "7100c400-6d81-4b6a-93bb-3df5c5f766ad"
      },
      "outputs": [
        {
          "output_type": "stream",
          "name": "stdout",
          "text": [
            "              precision    recall  f1-score   support\n",
            "\n",
            "           0       0.85      0.92      0.88       924\n",
            "           1       0.92      0.85      0.88      1004\n",
            "\n",
            "    accuracy                           0.88      1928\n",
            "   macro avg       0.89      0.89      0.88      1928\n",
            "weighted avg       0.89      0.88      0.88      1928\n",
            "\n"
          ]
        }
      ],
      "source": [
        "X = df.drop('y', axis=1)\n",
        "y = df['y']\n",
        "y = pd.cut(y, bins=[-float('inf'), 0.5, float('inf')], labels=[0, 1])\n",
        "X_train, X_test, y_train, y_test = train_test_split(X, y, test_size=0.2, random_state=42)\n",
        "model = RandomForestClassifier()\n",
        "model.fit(X_train, y_train)\n",
        "y_pred = model.predict(X_test)\n",
        "report = classification_report(y_test, y_pred)\n",
        "print(report)\n"
      ]
    },
    {
      "cell_type": "markdown",
      "metadata": {
        "collapsed": true,
        "id": "pjzDduZZNXkO"
      },
      "source": [
        "<table align=\"left\">\n",
        "    <tr>\n",
        "        <td>\n",
        "            <div align=\"left\", style=\"font-size:120%\">\n",
        "                <font color=\"#21618C\">\n",
        "                    <b>Determining optimal hyperparameters using GridSearchCV</b>\n",
        "                </font>\n",
        "            </div>\n",
        "        </td>\n",
        "    </tr>\n",
        "</table>"
      ]
    },
    {
      "cell_type": "code",
      "execution_count": 27,
      "metadata": {
        "id": "ub_dp1tgNXkO",
        "colab": {
          "base_uri": "https://localhost:8080/"
        },
        "outputId": "340ecdfe-b90d-4557-9815-9e9fa3dfb656"
      },
      "outputs": [
        {
          "output_type": "stream",
          "name": "stdout",
          "text": [
            "Fitting 5 folds for each of 108 candidates, totalling 540 fits\n",
            "Best Parameters: {'max_depth': 15, 'min_samples_leaf': 2, 'min_samples_split': 10, 'n_estimators': 50}\n",
            "              precision    recall  f1-score   support\n",
            "\n",
            "           0       0.85      0.94      0.89       924\n",
            "           1       0.94      0.85      0.89      1004\n",
            "\n",
            "    accuracy                           0.89      1928\n",
            "   macro avg       0.90      0.89      0.89      1928\n",
            "weighted avg       0.90      0.89      0.89      1928\n",
            "\n"
          ]
        }
      ],
      "source": [
        "X = df.drop('y', axis=1)\n",
        "y = df['y']\n",
        "y = pd.cut(y, bins=[-float('inf'), 0.5, float('inf')], labels=[0, 1])\n",
        "X_train, X_test, y_train, y_test = train_test_split(X, y, test_size=0.2, random_state=42)\n",
        "model = RandomForestClassifier(random_state=42)\n",
        "param_grid = {\n",
        "    'n_estimators': [10, 30, 50],\n",
        "    'max_depth': [None, 5, 10, 15],\n",
        "    'min_samples_split': [2, 5, 10],\n",
        "    'min_samples_leaf': [1, 2, 4]\n",
        "}\n",
        "grid_search = GridSearchCV(estimator=model, param_grid=param_grid, cv=5, scoring='accuracy', verbose=1, n_jobs=-1)\n",
        "grid_search.fit(X_train, y_train)\n",
        "best_params = grid_search.best_params_\n",
        "best_estimator = grid_search.best_estimator_\n",
        "print(\"Best Parameters:\", best_params)\n",
        "y_pred = best_estimator.predict(X_test)\n",
        "report = classification_report(y_test, y_pred)\n",
        "print(report)\n"
      ]
    },
    {
      "cell_type": "markdown",
      "metadata": {
        "collapsed": true,
        "id": "G8KKxvraNXkO"
      },
      "source": [
        "<table align=\"left\">\n",
        "    <tr>\n",
        "        <td>\n",
        "            <div align=\"left\", style=\"font-size:120%\">\n",
        "                <font color=\"#21618C\">\n",
        "                    <b>Compare the Full model and optimized model using model performance metrics\n",
        "                    </b>\n",
        "                </font>\n",
        "            </div>\n",
        "        </td>\n",
        "    </tr>\n",
        "</table>"
      ]
    },
    {
      "cell_type": "code",
      "execution_count": 28,
      "metadata": {
        "id": "edxDW8hoNXkO",
        "colab": {
          "base_uri": "https://localhost:8080/"
        },
        "outputId": "bf42d09f-d2d6-42c4-9cb5-85b964027a93"
      },
      "outputs": [
        {
          "output_type": "stream",
          "name": "stdout",
          "text": [
            "Performance of Full Model:\n",
            "              precision    recall  f1-score   support\n",
            "\n",
            "           0       0.85      0.92      0.89       924\n",
            "           1       0.92      0.85      0.89      1004\n",
            "\n",
            "    accuracy                           0.89      1928\n",
            "   macro avg       0.89      0.89      0.89      1928\n",
            "weighted avg       0.89      0.89      0.89      1928\n",
            "\n",
            "Accuracy of Full Model: 0.8853734439834025\n",
            "Fitting 5 folds for each of 108 candidates, totalling 540 fits\n",
            "\n",
            "Performance of Optimized Model:\n",
            "              precision    recall  f1-score   support\n",
            "\n",
            "           0       0.85      0.94      0.89       924\n",
            "           1       0.94      0.85      0.89      1004\n",
            "\n",
            "    accuracy                           0.89      1928\n",
            "   macro avg       0.90      0.89      0.89      1928\n",
            "weighted avg       0.90      0.89      0.89      1928\n",
            "\n",
            "Accuracy of Optimized Model: 0.8931535269709544\n"
          ]
        }
      ],
      "source": [
        "X = df.drop('y', axis=1)\n",
        "y = df['y']\n",
        "y = pd.cut(y, bins=[-float('inf'), 0.5, float('inf')], labels=[0, 1])\n",
        "X_train, X_test, y_train, y_test = train_test_split(X, y, test_size=0.2, random_state=42)\n",
        "full_model = RandomForestClassifier(random_state=42)\n",
        "full_model.fit(X_train, y_train)\n",
        "y_pred_full = full_model.predict(X_test)\n",
        "print(\"Performance of Full Model:\")\n",
        "print(classification_report(y_test, y_pred_full))\n",
        "print(\"Accuracy of Full Model:\", accuracy_score(y_test, y_pred_full))\n",
        "optimized_model = RandomForestClassifier(random_state=42)\n",
        "param_grid = {\n",
        "    'n_estimators': [10, 30, 50],\n",
        "    'max_depth': [None, 5, 10, 15],\n",
        "    'min_samples_split': [2, 5, 10],\n",
        "    'min_samples_leaf': [1, 2, 4]\n",
        "}\n",
        "grid_search = GridSearchCV(estimator=optimized_model, param_grid=param_grid, cv=5, scoring='accuracy', verbose=1, n_jobs=-1)\n",
        "grid_search.fit(X_train, y_train)\n",
        "best_estimator = grid_search.best_estimator_\n",
        "y_pred_optimized = best_estimator.predict(X_test)\n",
        "print(\"\\nPerformance of Optimized Model:\")\n",
        "print(classification_report(y_test, y_pred_optimized))\n",
        "print(\"Accuracy of Optimized Model:\", accuracy_score(y_test, y_pred_optimized))\n"
      ]
    },
    {
      "cell_type": "markdown",
      "metadata": {
        "id": "a-Xems9sNXkP"
      },
      "source": [
        "## 5.Build the XGBoost model with a learning rate of 0.4 and gamma equal to 3. Calculate the accuracy by plotting the confusion matrix"
      ]
    },
    {
      "cell_type": "code",
      "execution_count": 29,
      "metadata": {
        "id": "QdsxpRevNXkP",
        "colab": {
          "base_uri": "https://localhost:8080/",
          "height": 538
        },
        "outputId": "ea955e09-aca8-4e6a-dcc2-9cabc11efd5d"
      },
      "outputs": [
        {
          "output_type": "stream",
          "name": "stdout",
          "text": [
            "Accuracy: 0.8879668049792531\n"
          ]
        },
        {
          "output_type": "display_data",
          "data": {
            "text/plain": [
              "<Figure size 800x600 with 1 Axes>"
            ],
            "image/png": "[encoded data removed]"
          },
          "metadata": {}
        }
      ],
      "source": [
        "X = df.drop('y', axis=1)\n",
        "y = df['y']\n",
        "y = pd.cut(y, bins=[-float('inf'), 0.5, float('inf')], labels=[0, 1])\n",
        "X_train, X_test, y_train, y_test = train_test_split(X, y, test_size=0.2, random_state=42)\n",
        "model = xgb.XGBClassifier(learning_rate=0.4, gamma=3)\n",
        "model.fit(X_train, y_train)\n",
        "y_pred = model.predict(X_test)\n",
        "accuracy = accuracy_score(y_test, y_pred)\n",
        "print(\"Accuracy:\", accuracy)\n",
        "conf_matrix = confusion_matrix(y_test, y_pred)\n",
        "# Plot confusion matrix\n",
        "plt.figure(figsize=(8, 6))\n",
        "sns.heatmap(conf_matrix,annot=True,fmt=\"d\",cbar=False)\n",
        "plt.xlabel('Predicted labels')\n",
        "plt.ylabel('True labels')\n",
        "plt.title('Confusion Matrix')\n",
        "plt.show()\n"
      ]
    },
    {
      "cell_type": "markdown",
      "metadata": {
        "collapsed": true,
        "id": "Cs3YxqG9NXkP"
      },
      "source": [
        "<table align=\"left\">\n",
        "    <tr>\n",
        "        <td>\n",
        "            <div align=\"left\", style=\"font-size:120%\">\n",
        "                <font color=\"#21618C\">\n",
        "                    <b>Determining optimal hyperparameters using GridSearchCV</b>\n",
        "                </font>\n",
        "            </div>\n",
        "        </td>\n",
        "    </tr>\n",
        "</table>"
      ]
    },
    {
      "cell_type": "code",
      "execution_count": 30,
      "metadata": {
        "id": "HccNRI6mNXkP",
        "colab": {
          "base_uri": "https://localhost:8080/",
          "height": 573
        },
        "outputId": "993d9f65-420c-41b1-ee0e-fd59eab93372"
      },
      "outputs": [
        {
          "output_type": "stream",
          "name": "stdout",
          "text": [
            "Fitting 5 folds for each of 12 candidates, totalling 60 fits\n",
            "Best Parameters: {'gamma': 2, 'learning_rate': 0.2}\n",
            "Accuracy: 0.8895228215767634\n"
          ]
        },
        {
          "output_type": "display_data",
          "data": {
            "text/plain": [
              "<Figure size 800x600 with 1 Axes>"
            ],
            "image/png": "[encoded data removed]"
          },
          "metadata": {}
        }
      ],
      "source": [
        "X = df.drop('y', axis=1)\n",
        "y = df['y']\n",
        "y = pd.cut(y, bins=[-float('inf'), 0.5, float('inf')], labels=[0, 1])\n",
        "X_train, X_test, y_train, y_test = train_test_split(X, y, test_size=0.2, random_state=42)\n",
        "model = xgb.XGBClassifier()\n",
        "param_grid = {\n",
        "    'learning_rate': [0.1, 0.2, 0.4],\n",
        "    'gamma': [0, 1, 2, 3]\n",
        "}\n",
        "grid_search = GridSearchCV(estimator=model, param_grid=param_grid, cv=5, scoring='accuracy', verbose=1, n_jobs=-1)\n",
        "grid_search.fit(X_train, y_train)\n",
        "best_params = grid_search.best_params_\n",
        "best_estimator = grid_search.best_estimator_\n",
        "print(\"Best Parameters:\", best_params)\n",
        "y_pred = best_estimator.predict(X_test)\n",
        "accuracy = accuracy_score(y_test, y_pred)\n",
        "print(\"Accuracy:\", accuracy)\n",
        "conf_matrix = confusion_matrix(y_test, y_pred)\n",
        "plt.figure(figsize=(8, 6))\n",
        "sns.heatmap(conf_matrix, annot=True, fmt=\"d\", cmap=\"Blues\", cbar=False)\n",
        "plt.xlabel('Predicted labels')\n",
        "plt.ylabel('True labels')\n",
        "plt.title('Confusion Matrix')\n",
        "plt.show()\n"
      ]
    },
    {
      "cell_type": "markdown",
      "metadata": {
        "collapsed": true,
        "id": "LJHU20HmNXkP"
      },
      "source": [
        "<table align=\"left\">\n",
        "    <tr>\n",
        "        <td>\n",
        "            <div align=\"left\", style=\"font-size:120%\">\n",
        "                <font color=\"#21618C\">\n",
        "                    <b>Compare the Full model and optimized model using model performance metrics\n",
        "                    </b>\n",
        "                </font>\n",
        "            </div>\n",
        "        </td>\n",
        "    </tr>\n",
        "</table>"
      ]
    },
    {
      "cell_type": "code",
      "execution_count": 31,
      "metadata": {
        "id": "mFpYGAKwNXkP",
        "colab": {
          "base_uri": "https://localhost:8080/"
        },
        "outputId": "7b6ffd0f-7833-4b1a-8ed3-61871940a4d7"
      },
      "outputs": [
        {
          "output_type": "stream",
          "name": "stdout",
          "text": [
            "Performance of Full Model:\n",
            "              precision    recall  f1-score   support\n",
            "\n",
            "           0       0.85      0.91      0.88       924\n",
            "           1       0.91      0.85      0.88      1004\n",
            "\n",
            "    accuracy                           0.88      1928\n",
            "   macro avg       0.88      0.88      0.88      1928\n",
            "weighted avg       0.88      0.88      0.88      1928\n",
            "\n",
            "Accuracy of Full Model: 0.8807053941908713\n",
            "Fitting 5 folds for each of 12 candidates, totalling 60 fits\n",
            "\n",
            "Performance of Optimized Model:\n",
            "              precision    recall  f1-score   support\n",
            "\n",
            "           0       0.86      0.93      0.89       924\n",
            "           1       0.93      0.86      0.89      1004\n",
            "\n",
            "    accuracy                           0.89      1928\n",
            "   macro avg       0.89      0.89      0.89      1928\n",
            "weighted avg       0.89      0.89      0.89      1928\n",
            "\n",
            "Accuracy of Optimized Model: 0.8895228215767634\n"
          ]
        }
      ],
      "source": [
        "X = df.drop('y', axis=1)\n",
        "y = df['y']\n",
        "y = pd.cut(y, bins=[-float('inf'), 0.5, float('inf')], labels=[0, 1])\n",
        "X_train, X_test, y_train, y_test = train_test_split(X, y, test_size=0.2, random_state=42)\n",
        "full_model = xgb.XGBClassifier(random_state=42)\n",
        "full_model.fit(X_train, y_train)\n",
        "y_pred_full = full_model.predict(X_test)\n",
        "print(\"Performance of Full Model:\")\n",
        "print(classification_report(y_test, y_pred_full))\n",
        "print(\"Accuracy of Full Model:\", accuracy_score(y_test, y_pred_full))\n",
        "optimized_model = xgb.XGBClassifier()\n",
        "param_grid = {\n",
        "    'learning_rate': [0.1, 0.2, 0.4],\n",
        "    'gamma': [0, 1, 2, 3]\n",
        "}\n",
        "grid_search = GridSearchCV(estimator=optimized_model, param_grid=param_grid, cv=5, scoring='accuracy', verbose=1, n_jobs=-1)\n",
        "grid_search.fit(X_train, y_train)\n",
        "best_estimator = grid_search.best_estimator_\n",
        "y_pred_optimized = best_estimator.predict(X_test)\n",
        "print(\"\\nPerformance of Optimized Model:\")\n",
        "print(classification_report(y_test, y_pred_optimized))\n",
        "print(\"Accuracy of Optimized Model:\", accuracy_score(y_test, y_pred_optimized))\n"
      ]
    },
    {
      "cell_type": "markdown",
      "metadata": {
        "id": "eNAMc4GtNXkP"
      },
      "source": [
        "## 6.Build the K - Nearest Neighbor Model"
      ]
    },
    {
      "cell_type": "code",
      "execution_count": 32,
      "metadata": {
        "id": "F-Gv4l-ANXkP",
        "colab": {
          "base_uri": "https://localhost:8080/"
        },
        "outputId": "24f60898-ddcc-4ca6-c64b-d64f750337f9"
      },
      "outputs": [
        {
          "output_type": "stream",
          "name": "stdout",
          "text": [
            "Accuracy: 0.866701244813278\n",
            "              precision    recall  f1-score   support\n",
            "\n",
            "           0       0.84      0.90      0.87       924\n",
            "           1       0.90      0.84      0.87      1004\n",
            "\n",
            "    accuracy                           0.87      1928\n",
            "   macro avg       0.87      0.87      0.87      1928\n",
            "weighted avg       0.87      0.87      0.87      1928\n",
            "\n"
          ]
        }
      ],
      "source": [
        "X = df.drop('y', axis=1)\n",
        "y = df['y']\n",
        "y = pd.cut(y, bins=[-float('inf'), 0.5, float('inf')], labels=[0, 1])\n",
        "X_train, X_test, y_train, y_test = train_test_split(X, y, test_size=0.2, random_state=42)\n",
        "knn_model = KNeighborsClassifier()\n",
        "knn_model.fit(X_train, y_train)\n",
        "y_pred = knn_model.predict(X_test)\n",
        "accuracy = accuracy_score(y_test, y_pred)\n",
        "print(\"Accuracy:\", accuracy)\n",
        "report = classification_report(y_test, y_pred)\n",
        "print(report)"
      ]
    },
    {
      "cell_type": "markdown",
      "metadata": {
        "collapsed": true,
        "id": "wKKCm9zVNXkQ"
      },
      "source": [
        "<table align=\"left\">\n",
        "    <tr>\n",
        "        <td>\n",
        "            <div align=\"left\", style=\"font-size:120%\">\n",
        "                <font color=\"#21618C\">\n",
        "                    <b>Determining optimal K-Value using Elbow Curve Method</b>\n",
        "                </font>\n",
        "            </div>\n",
        "        </td>\n",
        "    </tr>\n",
        "</table>"
      ]
    },
    {
      "cell_type": "code",
      "execution_count": 33,
      "metadata": {
        "id": "F8-nPJh3NXkQ",
        "colab": {
          "base_uri": "https://localhost:8080/",
          "height": 509
        },
        "outputId": "4d2810ba-dc91-45ac-abbd-d80f9c43c0f0"
      },
      "outputs": [
        {
          "output_type": "display_data",
          "data": {
            "text/plain": [
              "<Figure size 800x600 with 1 Axes>"
            ],
            "image/png": "[encoded data removed]"
          },
          "metadata": {}
        }
      ],
      "source": [
        "X = df.drop('y', axis=1)\n",
        "y = df['y']\n",
        "y = pd.cut(y, bins=[-float('inf'), 0.5, float('inf')], labels=[0, 1])\n",
        "X_train, X_test, y_train, y_test = train_test_split(X, y, test_size=0.2, random_state=42)\n",
        "k_values = range(1, 21)\n",
        "accuracy_values = []\n",
        "for k in k_values:\n",
        "    knn_model = KNeighborsClassifier(n_neighbors=k)\n",
        "    knn_model.fit(X_train, y_train)\n",
        "    y_pred = knn_model.predict(X_test)\n",
        "    accuracy = accuracy_score(y_test, y_pred)\n",
        "    accuracy_values.append(accuracy)\n",
        "plt.figure(figsize=(8, 6))\n",
        "plt.plot(k_values, accuracy_values,marker='x')\n",
        "plt.xlabel('Number of Neighbors (K)')\n",
        "plt.ylabel('Accuracy')\n",
        "plt.title('Elbow Curve for KNN')\n",
        "plt.xticks(k_values)\n",
        "plt.show()\n"
      ]
    },
    {
      "cell_type": "markdown",
      "metadata": {
        "collapsed": true,
        "id": "rTTUUnFkNXkQ"
      },
      "source": [
        "<table align=\"left\">\n",
        "    <tr>\n",
        "        <td>\n",
        "            <div align=\"left\", style=\"font-size:120%\">\n",
        "                <font color=\"#21618C\">\n",
        "                    <b>Compare the Full model and optimized model using model performance metrics\n",
        "                    </b>\n",
        "                </font>\n",
        "            </div>\n",
        "        </td>\n",
        "    </tr>\n",
        "</table>"
      ]
    },
    {
      "cell_type": "code",
      "execution_count": 34,
      "metadata": {
        "id": "dT0wXcVMNXkQ",
        "colab": {
          "base_uri": "https://localhost:8080/"
        },
        "outputId": "65137c11-c52a-4ca6-d6c3-cf96ea664910"
      },
      "outputs": [
        {
          "output_type": "stream",
          "name": "stdout",
          "text": [
            "Performance of Full Model:\n",
            "              precision    recall  f1-score   support\n",
            "\n",
            "           0       0.84      0.90      0.87       924\n",
            "           1       0.90      0.84      0.87      1004\n",
            "\n",
            "    accuracy                           0.87      1928\n",
            "   macro avg       0.87      0.87      0.87      1928\n",
            "weighted avg       0.87      0.87      0.87      1928\n",
            "\n",
            "Accuracy of Full Model: 0.866701244813278\n",
            "\n",
            "Performance of Optimized Model (K = 18 ):\n",
            "              precision    recall  f1-score   support\n",
            "\n",
            "           0       0.84      0.92      0.88       924\n",
            "           1       0.92      0.84      0.88      1004\n",
            "\n",
            "    accuracy                           0.88      1928\n",
            "   macro avg       0.88      0.88      0.88      1928\n",
            "weighted avg       0.88      0.88      0.88      1928\n",
            "\n",
            "Accuracy of Optimized Model: 0.8760373443983402\n"
          ]
        }
      ],
      "source": [
        "X = df.drop('y', axis=1)\n",
        "y = df['y']\n",
        "y = pd.cut(y, bins=[-float('inf'), 0.5, float('inf')], labels=[0, 1])\n",
        "X_train, X_test, y_train, y_test = train_test_split(X, y, test_size=0.2, random_state=42)\n",
        "full_model = KNeighborsClassifier(n_neighbors=5)\n",
        "full_model.fit(X_train, y_train)\n",
        "y_pred_full = full_model.predict(X_test)\n",
        "print(\"Performance of Full Model:\")\n",
        "print(classification_report(y_test, y_pred_full))\n",
        "print(\"Accuracy of Full Model:\", accuracy_score(y_test, y_pred_full))\n",
        "optimal_k = 18\n",
        "optimized_model = KNeighborsClassifier(n_neighbors=optimal_k)\n",
        "optimized_model.fit(X_train, y_train)\n",
        "y_pred_optimized = optimized_model.predict(X_test)\n",
        "print(\"\\nPerformance of Optimized Model (K =\", optimal_k, \"):\")\n",
        "print(classification_report(y_test, y_pred_optimized))\n",
        "print(\"Accuracy of Optimized Model:\", accuracy_score(y_test, y_pred_optimized))\n"
      ]
    },
    {
      "cell_type": "markdown",
      "metadata": {
        "id": "BCyliTQ4NXkQ"
      },
      "source": [
        "## 7. Build the Naive Bayes Model"
      ]
    },
    {
      "cell_type": "code",
      "execution_count": 35,
      "metadata": {
        "id": "IcFUH6jYNXkQ",
        "colab": {
          "base_uri": "https://localhost:8080/"
        },
        "outputId": "093dc3f5-9aab-451f-8596-1f16ab84434f"
      },
      "outputs": [
        {
          "output_type": "stream",
          "name": "stdout",
          "text": [
            "Accuracy: 0.7847510373443983\n",
            "              precision    recall  f1-score   support\n",
            "\n",
            "           0       0.79      0.75      0.77       924\n",
            "           1       0.78      0.82      0.80      1004\n",
            "\n",
            "    accuracy                           0.78      1928\n",
            "   macro avg       0.79      0.78      0.78      1928\n",
            "weighted avg       0.79      0.78      0.78      1928\n",
            "\n"
          ]
        }
      ],
      "source": [
        "X = df.drop('y', axis=1)\n",
        "y = df['y']\n",
        "y = pd.cut(y, bins=[-float('inf'), 0.5, float('inf')], labels=[0, 1])\n",
        "X_train, X_test, y_train, y_test = train_test_split(X, y, test_size=0.2, random_state=42)\n",
        "nb_model = GaussianNB()\n",
        "nb_model.fit(X_train, y_train)\n",
        "y_pred = nb_model.predict(X_test)\n",
        "accuracy = accuracy_score(y_test, y_pred)\n",
        "print(\"Accuracy:\", accuracy)\n",
        "report = classification_report(y_test, y_pred)\n",
        "print(report)"
      ]
    },
    {
      "cell_type": "markdown",
      "metadata": {
        "collapsed": true,
        "id": "fx770rK9NXkR"
      },
      "source": [
        "<table align=\"left\">\n",
        "    <tr>\n",
        "        <td>\n",
        "            <div align=\"left\", style=\"font-size:120%\">\n",
        "                <font color=\"#21618C\">\n",
        "                    <b>Compare the classification results of Gaussian, Bernoulli and Multinomial Naive Bayes</b>\n",
        "                </font>\n",
        "            </div>\n",
        "        </td>\n",
        "    </tr>\n",
        "</table>"
      ]
    },
    {
      "cell_type": "code",
      "execution_count": 36,
      "metadata": {
        "id": "HBH10jFKNXkR",
        "colab": {
          "base_uri": "https://localhost:8080/"
        },
        "outputId": "c589afb4-81b2-42ad-dd4f-54b92ec698ec"
      },
      "outputs": [
        {
          "output_type": "stream",
          "name": "stdout",
          "text": [
            "Gaussian Naive Bayes:\n",
            "              precision    recall  f1-score   support\n",
            "\n",
            "           0       0.79      0.75      0.77       924\n",
            "           1       0.78      0.82      0.80      1004\n",
            "\n",
            "    accuracy                           0.78      1928\n",
            "   macro avg       0.79      0.78      0.78      1928\n",
            "weighted avg       0.79      0.78      0.78      1928\n",
            "\n",
            "Accuracy: 0.7847510373443983\n",
            "\n",
            "Bernoulli Naive Bayes:\n",
            "              precision    recall  f1-score   support\n",
            "\n",
            "           0       0.69      0.70      0.70       924\n",
            "           1       0.72      0.70      0.71      1004\n",
            "\n",
            "    accuracy                           0.70      1928\n",
            "   macro avg       0.70      0.70      0.70      1928\n",
            "weighted avg       0.70      0.70      0.70      1928\n",
            "\n",
            "Accuracy: 0.7043568464730291\n",
            "\n",
            "Multinomial Naive Bayes:\n",
            "              precision    recall  f1-score   support\n",
            "\n",
            "           0       0.78      0.65      0.70       924\n",
            "           1       0.72      0.83      0.77      1004\n",
            "\n",
            "    accuracy                           0.74      1928\n",
            "   macro avg       0.75      0.74      0.74      1928\n",
            "weighted avg       0.75      0.74      0.74      1928\n",
            "\n",
            "Accuracy: 0.7406639004149378\n"
          ]
        }
      ],
      "source": [
        "X = df.drop('y', axis=1)\n",
        "y = df['y']\n",
        "y = pd.cut(y, bins=[-float('inf'), 0.5, float('inf')], labels=[0, 1])\n",
        "X_train, X_test, y_train, y_test = train_test_split(X, y, test_size=0.2, random_state=42)\n",
        "\n",
        "gaussian_nb = GaussianNB()\n",
        "gaussian_nb.fit(X_train, y_train)\n",
        "y_pred_gaussian = gaussian_nb.predict(X_test)\n",
        "\n",
        "bernoulli_nb = BernoulliNB()\n",
        "bernoulli_nb.fit(X_train, y_train)\n",
        "y_pred_bernoulli = bernoulli_nb.predict(X_test)\n",
        "\n",
        "X_shifted = X + abs(X.min()) + 1\n",
        "scaler = MinMaxScaler()\n",
        "X_scaled = scaler.fit_transform(X_shifted)\n",
        "X_train, X_test, y_train, y_test = train_test_split(X_scaled, y, test_size=0.2, random_state=42)\n",
        "multinomial_nb = MultinomialNB()\n",
        "multinomial_nb.fit(X_train, y_train)\n",
        "y_pred_multinomial = multinomial_nb.predict(X_test)\n",
        "\n",
        "print(\"Gaussian Naive Bayes:\")\n",
        "print(classification_report(y_test, y_pred_gaussian))\n",
        "print(\"Accuracy:\", accuracy_score(y_test, y_pred_gaussian))\n",
        "\n",
        "print(\"\\nBernoulli Naive Bayes:\")\n",
        "print(classification_report(y_test, y_pred_bernoulli))\n",
        "print(\"Accuracy:\", accuracy_score(y_test, y_pred_bernoulli))\n",
        "\n",
        "print(\"\\nMultinomial Naive Bayes:\")\n",
        "print(classification_report(y_test, y_pred_multinomial))\n",
        "print(\"Accuracy:\", accuracy_score(y_test, y_pred_multinomial))\n"
      ]
    },
    {
      "cell_type": "markdown",
      "metadata": {
        "id": "bcvHbodXNXkR"
      },
      "source": [
        "## 8. Compare the results of all above mentioned algorithms"
      ]
    },
    {
      "cell_type": "markdown",
      "metadata": {
        "collapsed": true,
        "id": "b_7BSJN2NXkR"
      },
      "source": [
        "<table align=\"left\">\n",
        "    <tr>\n",
        "        <td>\n",
        "            <div align=\"left\", style=\"font-size:120%\">\n",
        "                <font color=\"#21618C\">\n",
        "                    <b>Compare all the classification models using model performance evaluation metrics\n",
        "                    </b>\n",
        "                </font>\n",
        "            </div>\n",
        "        </td>\n",
        "    </tr>\n",
        "</table>"
      ]
    },
    {
      "cell_type": "code",
      "execution_count": 37,
      "metadata": {
        "id": "cbuA08aLNXkR",
        "colab": {
          "base_uri": "https://localhost:8080/"
        },
        "outputId": "60a1e503-26d8-49f4-ee83-9eef23a4ceb0"
      },
      "outputs": [
        {
          "output_type": "stream",
          "name": "stdout",
          "text": [
            "Model: Logistic Regression\n",
            "Accuracy: 0.8387, Precision: 0.8462, Recall: 0.8436, F1-score: 0.8449\n",
            "------------------------------\n",
            "Model: Decision Tree\n",
            "Accuracy: 0.8309, Precision: 0.8376, Recall: 0.8376, F1-score: 0.8376\n",
            "------------------------------\n",
            "Model: Random Forest\n",
            "Accuracy: 0.8833, Precision: 0.9193, Recall: 0.8506, F1-score: 0.8836\n",
            "------------------------------\n",
            "Model: XG Boost\n",
            "Accuracy: 0.8807, Precision: 0.9117, Recall: 0.8536, F1-score: 0.8817\n",
            "------------------------------\n",
            "Model: KNN\n",
            "Accuracy: 0.8615, Precision: 0.8950, Recall: 0.8317, F1-score: 0.8622\n",
            "------------------------------\n",
            "Model: Naive Bayes\n",
            "Accuracy: 0.7848, Precision: 0.7797, Recall: 0.8177, F1-score: 0.7982\n",
            "------------------------------\n"
          ]
        }
      ],
      "source": [
        "models = {\n",
        "    'Logistic Regression': LogisticRegression(),\n",
        "    'Decision Tree': DecisionTreeClassifier(),\n",
        "    'Random Forest': RandomForestClassifier(),\n",
        "    'XG Boost': XGBClassifier(),\n",
        "    'KNN': KNeighborsClassifier(),\n",
        "    'Naive Bayes': GaussianNB()\n",
        "}\n",
        "for name, model in models.items():\n",
        "    model.fit(X_train, y_train)\n",
        "    y_pred = model.predict(X_test)\n",
        "    accuracy = accuracy_score(y_test, y_pred)\n",
        "    precision = precision_score(y_test, y_pred)\n",
        "    recall = recall_score(y_test, y_pred)\n",
        "    f1 = f1_score(y_test, y_pred)\n",
        "    print(f\"Model: {name}\")\n",
        "    print(f\"Accuracy: {accuracy:.4f}, Precision: {precision:.4f}, Recall: {recall:.4f}, F1-score: {f1:.4f}\")\n",
        "    print(\"------------------------------\")\n",
        "\n"
      ]
    },
    {
      "cell_type": "markdown",
      "metadata": {
        "collapsed": true,
        "id": "N2M71_UGNXkR"
      },
      "source": [
        "<table align=\"left\">\n",
        "    <tr>\n",
        "        <td>\n",
        "            <div align=\"left\", style=\"font-size:120%\">\n",
        "                <font color=\"#21618C\">\n",
        "                    <b>Compare all the classification models using their ROC curves.\n",
        "                    </b>\n",
        "                </font>\n",
        "            </div>\n",
        "        </td>\n",
        "    </tr>\n",
        "</table>"
      ]
    },
    {
      "cell_type": "code",
      "execution_count": 38,
      "metadata": {
        "id": "QI61JMFTNXkR",
        "colab": {
          "base_uri": "https://localhost:8080/",
          "height": 515
        },
        "outputId": "47e191ad-e0fd-4670-afad-e5429c3ba8b3"
      },
      "outputs": [
        {
          "output_type": "display_data",
          "data": {
            "text/plain": [
              "<Figure size 800x600 with 1 Axes>"
            ],
            "image/png": "[encoded data removed]"
          },
          "metadata": {}
        }
      ],
      "source": [
        "models = {\n",
        "    'Logistic Regression': LogisticRegression(),\n",
        "    'Decision Tree': DecisionTreeClassifier(),\n",
        "    'Random Forest': RandomForestClassifier(),\n",
        "    'XG Boost': XGBClassifier(),\n",
        "    'KNN': KNeighborsClassifier(),\n",
        "    'Naive Bayes': GaussianNB()\n",
        "}\n",
        "plt.figure(figsize=(8, 6))\n",
        "for name, model in models.items():\n",
        "    model.fit(X_train, y_train)\n",
        "    y_probs = model.predict_proba(X_test)[:, 1]\n",
        "    fpr, tpr, _ = roc_curve(y_test, y_probs)\n",
        "    roc_auc = auc(fpr, tpr)\n",
        "    plt.plot(fpr, tpr, label=f'{name} (AUC = {roc_auc:.2f})')\n",
        "plt.plot([0, 1], [0, 1], linestyle='--', color='grey', label='Random Guess')\n",
        "plt.xlabel('False Positive Rate (FPR)')\n",
        "plt.ylabel('True Positive Rate (TPR)')\n",
        "plt.title('ROC Curves of Classification Models')\n",
        "plt.legend()\n",
        "plt.grid()\n",
        "plt.show()"
      ]
    },
    {
      "cell_type": "markdown",
      "metadata": {
        "collapsed": true,
        "id": "Jt8zVZMbNXkR"
      },
      "source": [
        "<table align=\"left\">\n",
        "    <tr>\n",
        "        <td>\n",
        "            <div align=\"left\", style=\"font-size:120%\">\n",
        "                <font color=\"#21618C\">\n",
        "                    <b>comput cross entropy and Compare all the classification models.\n",
        "                    </b>\n",
        "                </font>\n",
        "            </div>\n",
        "        </td>\n",
        "    </tr>\n",
        "</table>"
      ]
    },
    {
      "cell_type": "code",
      "execution_count": 39,
      "metadata": {
        "id": "cz2WLy-oNXkR",
        "colab": {
          "base_uri": "https://localhost:8080/"
        },
        "outputId": "6df6ac8b-09a2-4dc9-81cf-3e4860e30b67"
      },
      "outputs": [
        {
          "output_type": "stream",
          "name": "stdout",
          "text": [
            "Model: Logistic Regression - Cross-Entropy: 0.3680\n",
            "Model: Decision Tree - Cross-Entropy: 6.0945\n",
            "Model: Random Forest - Cross-Entropy: 0.3060\n",
            "Model: XG Boost - Cross-Entropy: 0.2891\n",
            "Model: KNN - Cross-Entropy: 1.5250\n",
            "Model: Naive Bayes - Cross-Entropy: 1.1050\n"
          ]
        }
      ],
      "source": [
        "\n",
        "models = {\n",
        "    'Logistic Regression': LogisticRegression(),\n",
        "    'Decision Tree': DecisionTreeClassifier(),\n",
        "    'Random Forest': RandomForestClassifier(),\n",
        "    'XG Boost': XGBClassifier(),\n",
        "    'KNN': KNeighborsClassifier(),\n",
        "    'Naive Bayes': GaussianNB()\n",
        "}\n",
        "cross_entropies = {}\n",
        "for name, model in models.items():\n",
        "    model.fit(X_train, y_train)\n",
        "    y_probs = model.predict_proba(X_test)\n",
        "    cross_entropy = log_loss(y_test, y_probs)\n",
        "    cross_entropies[name] = cross_entropy\n",
        "for name, cross_entropy in cross_entropies.items():\n",
        "    print(f\"Model: {name} - Cross-Entropy: {cross_entropy:.4f}\")\n"
      ]
    },
    {
      "cell_type": "markdown",
      "metadata": {
        "id": "X8e6kjgnNXkR"
      },
      "source": [
        "## 9. Intrepret your solution based on the results"
      ]
    },
    {
      "cell_type": "markdown",
      "source": [
        "From the data set given I understood and build a model from that the I have sorted the best 3 models:\n",
        "1.\tModel: Random Forest\n",
        "Accuracy: 89%, Precision: 93%, Recall: 84%, F1-score: 88%\n",
        "Random forest is the best model.\n",
        "2.\tModel: XG Boost\n",
        "Accuracy: 88%, Precision: 91%, Recall: 85%, F1-score: 88%\n",
        "XG Boost has the 2nd best model.\n",
        "3.\tModel: KNN\n",
        "Accuracy: 86%, Precision: 89%, Recall: 83%, F1-score: 86%\n",
        "KNN has the 3rd best model almost similar to XG Boosting.\n",
        "----------------------------------------\n",
        "Among the models used for testing Naïve Bayes has the worst model:\n",
        "\n",
        "Model: Naive Bayes\n",
        "Accuracy: 78%, Precision: 77%, Recall: 81%, F1-score: 79%\n"
      ],
      "metadata": {
        "id": "naOgAZdauvZV"
      }
    }
  ],
  "metadata": {
    "kernelspec": {
      "display_name": "Python 3 (ipykernel)",
      "language": "python",
      "name": "python3"
    },
    "language_info": {
      "codemirror_mode": {
        "name": "ipython",
        "version": 3
      },
      "file_extension": ".py",
      "mimetype": "text/x-python",
      "name": "python",
      "nbconvert_exporter": "python",
      "pygments_lexer": "ipython3",
      "version": "3.9.7"
    },
    "colab": {
      "provenance": []
    }
  },
  "nbformat": 4,
  "nbformat_minor": 0
}
